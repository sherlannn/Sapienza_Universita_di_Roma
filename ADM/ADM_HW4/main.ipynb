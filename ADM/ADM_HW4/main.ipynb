{
 "cells": [
  {
   "cell_type": "markdown",
   "id": "fd138b0a-be8a-4ab8-99cd-62626c2b3bde",
   "metadata": {},
   "source": [
    "# ADM Homework 4 - group 4 "
   ]
  },
  {
   "cell_type": "code",
   "execution_count": 22,
   "id": "initial_id",
   "metadata": {
    "ExecuteTime": {
     "end_time": "2023-12-17T09:56:18.601544800Z",
     "start_time": "2023-12-17T09:56:15.413230500Z"
    },
    "collapsed": true,
    "id": "initial_id",
    "jupyter": {
     "outputs_hidden": true
    }
   },
   "outputs": [],
   "source": [
    "import pandas as pd\n",
    "import numpy as np\n",
    "import matplotlib.pyplot as plt\n",
    "from tqdm import tqdm\n",
    "import hashlib\n",
    "import random\n",
    "from sklearn.decomposition import PCA\n",
    "from sklearn.metrics import silhouette_score\n",
    "from sklearn.cluster import DBSCAN\n",
    "from sklearn.cluster import KMeans\n",
    "from kneed import KneeLocator"
   ]
  },
  {
   "cell_type": "code",
   "execution_count": 23,
   "id": "W2eR7wPcp2vO",
   "metadata": {
    "colab": {
     "base_uri": "https://localhost:8080/"
    },
    "id": "W2eR7wPcp2vO",
    "outputId": "6e9662c6-a9ee-421f-cb59-f77759444057"
   },
   "outputs": [
    {
     "name": "stdout",
     "output_type": "stream",
     "text": [
      "Drive already mounted at /content/drive; to attempt to forcibly remount, call drive.mount(\"/content/drive\", force_remount=True).\n"
     ]
    }
   ],
   "source": [
    "from google.colab import drive\n",
    "drive.mount('/content/drive')"
   ]
  },
  {
   "cell_type": "code",
   "execution_count": 24,
   "id": "aa5931d4508e413f",
   "metadata": {
    "ExecuteTime": {
     "end_time": "2023-12-17T09:56:21.215892400Z",
     "start_time": "2023-12-17T09:56:18.603546100Z"
    },
    "id": "aa5931d4508e413f"
   },
   "outputs": [],
   "source": [
    "File_Path = '/content/drive/MyDrive/Colab Notebooks/ADM - DataScience/ADM-4/vodclickstream_uk_movies_03.csv'\n",
    "df = pd.read_csv(File_Path)"
   ]
  },
  {
   "cell_type": "markdown",
   "id": "5qCFOh-bqMPr",
   "metadata": {
    "id": "5qCFOh-bqMPr"
   },
   "source": [
    "# 1.Recommendation system"
   ]
  },
  {
   "cell_type": "markdown",
   "id": "HJW4I7KrqV2r",
   "metadata": {
    "id": "HJW4I7KrqV2r"
   },
   "source": [
    "## Preprocessing\n"
   ]
  },
  {
   "cell_type": "markdown",
   "id": "fFzhPUi2qpXH",
   "metadata": {
    "id": "fFzhPUi2qpXH"
   },
   "source": [
    "The genres column has some rows with \"NOT AVAILABLE\" in it, we will remove those."
   ]
  },
  {
   "cell_type": "code",
   "execution_count": 25,
   "id": "L3VJcXGnqZk4",
   "metadata": {
    "id": "L3VJcXGnqZk4"
   },
   "outputs": [],
   "source": [
    "df = df[(df['release_date'] != 'NOT AVAILABLE') & (df['genres'] != 'NOT AVAILABLE')]\n",
    "df.reset_index(drop=True, inplace=True)"
   ]
  },
  {
   "cell_type": "code",
   "execution_count": 26,
   "id": "0vuT51nxqeAT",
   "metadata": {
    "id": "0vuT51nxqeAT"
   },
   "outputs": [],
   "source": [
    "# Remove leading and trailing spaces from the genres column\n",
    "df['genres'] = df['genres'].str.strip()"
   ]
  },
  {
   "cell_type": "markdown",
   "id": "t-5Bk7PyqhCv",
   "metadata": {
    "id": "t-5Bk7PyqhCv"
   },
   "source": [
    "## 1.1."
   ]
  },
  {
   "cell_type": "markdown",
   "id": "rT0ds0RYqmUl",
   "metadata": {
    "id": "rT0ds0RYqmUl"
   },
   "source": [
    "Searching the dataset to find each unique user, and run the movies_watched_by_user function to find all the movies watched by each user."
   ]
  },
  {
   "cell_type": "code",
   "execution_count": 7,
   "id": "dHhewvQiqtDj",
   "metadata": {
    "id": "dHhewvQiqtDj"
   },
   "outputs": [],
   "source": [
    "def movies_watched_by_user(user_id, df):\n",
    "    user_movies = df[df['user_id'] == user_id]\n",
    "    movies_count = user_movies['title'].value_counts().reset_index()\n",
    "    movies_count.columns = ['title', 'count']\n",
    "    return movies_count"
   ]
  },
  {
   "cell_type": "code",
   "execution_count": 27,
   "id": "ZobfdA9AquHT",
   "metadata": {
    "colab": {
     "base_uri": "https://localhost:8080/"
    },
    "id": "ZobfdA9AquHT",
    "outputId": "95045623-3e63-4d32-9157-747a52a182ea"
   },
   "outputs": [
    {
     "name": "stdout",
     "output_type": "stream",
     "text": [
      "User : 6faad8a551\n",
      "                     title  count\n",
      "0          War on Everyone      4\n",
      "1                 Deadpool      2\n",
      "2  What Happened to Monday      1\n",
      "3                  Gun Shy      1\n",
      "User : c02a8591f4\n",
      "                        title  count\n",
      "0  Black Mirror: Bandersnatch      2\n",
      "1                 Escape Room      1\n",
      "User : 0ea15e0b1d\n",
      "          title  count\n",
      "0  Annihilation      1\n",
      "1        BLAME!      1\n",
      "User : 6a4b980687\n",
      "                     title  count\n",
      "0  The Fate of the Furious      3\n",
      "1      The Young Offenders      2\n",
      "2           Murder Mystery      1\n",
      "User : ea53359404\n",
      "                title  count\n",
      "0  The Princess Bride      1\n",
      "User : 7e71cbc80a\n",
      "                   title  count\n",
      "0          Born to Dance      1\n",
      "1  It's a Boy Girl Thing      1\n",
      "2             Blind Date      1\n",
      "User : e810dba37a\n",
      "          title  count\n",
      "0  Batman Ninja      1\n",
      "User : ab9012f872\n",
      "      title  count\n",
      "0  Hot Fuzz      1\n",
      "User : d5fdf853cd\n",
      "         title  count\n",
      "0  Grown Ups 2      2\n",
      "1    Grown Ups      1\n",
      "User : 63e522d029\n",
      "                   title  count\n",
      "0                  Split      2\n",
      "1        The Last Summer      2\n",
      "2  The Spy Who Dumped Me      1\n",
      "3          Someone Great      1\n",
      "4                Ant-Man      1\n",
      "5       The Perfect Date      1\n",
      "6              Coneheads      1\n",
      "7              Burlesque      1\n",
      "8   The Space Between Us      1\n",
      "9     Despite Everything      1\n"
     ]
    }
   ],
   "source": [
    "users = df['user_id'].unique()\n",
    "\n",
    "first_Ten = np.random.choice(users, 10) # Let's only print 10 users\n",
    "for user in first_Ten:\n",
    "    clicked_movies = movies_watched_by_user(user, df).head(10)\n",
    "    print(f\"User : {user}\\n{clicked_movies}\")"
   ]
  },
  {
   "cell_type": "markdown",
   "id": "mLz8wHTHqwBS",
   "metadata": {
    "id": "mLz8wHTHqwBS"
   },
   "source": [
    "## 1.2 - 1.3. Minhash Signatures & Locality-Sensitive Hashing (LSH)"
   ]
  },
  {
   "cell_type": "markdown",
   "id": "qsC9rqYcq5QN",
   "metadata": {
    "id": "qsC9rqYcq5QN"
   },
   "source": [
    "Aggregating the genres for each users. The reason we are keeping duplicates is that, if we do not than after a certain time each user will have all the genres in this list as they start to click more and more movies. This helps us to keep hte jaccard similarity scores from becoming 1.0 with a lot of other users. Another implementation could have been creating a dictionary of all 39 genres and keeping count of the genres of each movie clicked. But for the context of our assignment we made the dicision to go with this approach to keep the calculations for the MinHash and lsh simple."
   ]
  },
  {
   "cell_type": "code",
   "execution_count": 29,
   "id": "xgDJIqWGq2dK",
   "metadata": {
    "colab": {
     "base_uri": "https://localhost:8080/"
    },
    "id": "xgDJIqWGq2dK",
    "outputId": "c2cf0714-d021-4f1f-8c01-6c6969b6e133"
   },
   "outputs": [
    {
     "name": "stderr",
     "output_type": "stream",
     "text": [
      "Aggregating Genres for each User: 100%|██████████| 157622/157622 [01:13<00:00, 2151.06it/s]\n"
     ]
    },
    {
     "name": "stdout",
     "output_type": "stream",
     "text": [
      "  unique_user_id                                         agg_genres\n",
      "0     00004e2862                           [Crime, Drama, Thriller]\n",
      "1     000052a0a0  [Crime, Drama, Thriller, Crime, Drama, Thrille...\n",
      "2     000090e7c8                        [Mystery, Sci-Fi, Thriller]\n",
      "3     000118a755                                           [Horror]\n",
      "4     000296842d  [Drama, Mystery, Sci-Fi, Thriller, Drama, Myst...\n",
      "5     0002aab109  [Comedy, Crime, Drama, Biography, Drama, Biogr...\n",
      "6     0002abf14f   [Drama, Romance, Drama, Romance, Drama, Romance]\n",
      "7     0002d1c4b1                                   [Comedy, Sci-Fi]\n",
      "8     000499c2b6    [Animation, Adventure, Comedy, Family, Fantasy]\n",
      "9     00051f0e1f                [Action, Adventure, Comedy, Sci-Fi]\n"
     ]
    }
   ],
   "source": [
    "# Convert 'genres' column to a list\n",
    "df['genres'] = df['genres'].apply(lambda x: x.split(', '))\n",
    "user_genres = {}\n",
    "\n",
    "# Iterate over each group (user) and aggregate genres with tqdm\n",
    "for user_id, group in tqdm(df.groupby('user_id'), desc=\"Aggregating Genres for each User\"):\n",
    "    genres = []\n",
    "    for _, row in group.iterrows():\n",
    "        genres.extend(row['genres'])\n",
    "    user_genres[user_id] = genres\n",
    "unique_users_df = pd.DataFrame(list(user_genres.items()), columns=['unique_user_id', 'agg_genres'])\n",
    "print(unique_users_df.head(10))"
   ]
  },
  {
   "cell_type": "markdown",
   "id": "DD3eTGRArFox",
   "metadata": {
    "id": "DD3eTGRArFox"
   },
   "source": [
    "Creating the functions to create the MinHash signatures of each user. This MinHash signature is than used to pool similar users into the same buckets using LSH. Once all the users are pooled into buckets, The Jaccard similarity function (A ∩ B / A ∪ B) is to find the most similarity precisely."
   ]
  },
  {
   "cell_type": "code",
   "execution_count": 30,
   "id": "fF1dbsHMrH_m",
   "metadata": {
    "id": "fF1dbsHMrH_m"
   },
   "outputs": [],
   "source": [
    "class MinHash:\n",
    "    def __init__(self, num_perm):\n",
    "        self.num_perm = num_perm\n",
    "        self.hash_values = [float('inf')] * num_perm\n",
    "\n",
    "    def update(self, value):\n",
    "        for i in range(self.num_perm):\n",
    "            # Use a hash function\n",
    "            hash_val = int(hashlib.sha256(f\"{value}_{i}\".encode('utf-8')).hexdigest(), 16)\n",
    "            self.hash_values[i] = min(self.hash_values[i], hash_val)\n",
    "def jaccard_similarity(minhash1, minhash2):\n",
    "    common_count = sum(x == y for x, y in zip(minhash1.hash_values, minhash2.hash_values))\n",
    "    union_size = len(minhash1.hash_values) + len(minhash2.hash_values) - common_count\n",
    "    return common_count / union_size"
   ]
  },
  {
   "cell_type": "code",
   "execution_count": 31,
   "id": "Rvp6ugtFrJtb",
   "metadata": {
    "id": "Rvp6ugtFrJtb"
   },
   "outputs": [],
   "source": [
    "class LSH:\n",
    "    def __init__(self, num_perm, bands, rows):\n",
    "        self.num_perm = num_perm\n",
    "        self.bands = bands\n",
    "        self.rows = rows\n",
    "        self.hash_tables = [{} for _ in range(bands)]\n",
    "\n",
    "    def insert(self, user_id, minhash):\n",
    "        for i in range(self.bands):\n",
    "            band_hash = hash(tuple(minhash.hash_values[i * self.rows : (i + 1) * self.rows]))\n",
    "            if band_hash not in self.hash_tables[i]:\n",
    "                self.hash_tables[i][band_hash] = []\n",
    "            self.hash_tables[i][band_hash].append(user_id)\n",
    "\n",
    "    def query(self, minhash):\n",
    "        candidate_set = set()\n",
    "        for i in range(self.bands):\n",
    "            band_hash = hash(tuple(minhash.hash_values[i * self.rows : (i + 1) * self.rows]))\n",
    "            if band_hash in self.hash_tables[i]:\n",
    "                candidate_set.update(self.hash_tables[i][band_hash])\n",
    "        return candidate_set"
   ]
  },
  {
   "cell_type": "code",
   "execution_count": 32,
   "id": "c4f8LBZprLGr",
   "metadata": {
    "colab": {
     "base_uri": "https://localhost:8080/"
    },
    "id": "c4f8LBZprLGr",
    "outputId": "275374af-bcca-468b-cee7-5c9e83bbb861"
   },
   "outputs": [
    {
     "name": "stderr",
     "output_type": "stream",
     "text": [
      "Creating MinHash Signatures: 100%|██████████| 157622/157622 [11:08<00:00, 235.71it/s]\n"
     ]
    }
   ],
   "source": [
    "# Creating LSH index\n",
    "num_perm = 128\n",
    "bands = 8\n",
    "rows = num_perm // bands\n",
    "lsh_index = LSH(num_perm=num_perm, bands=bands, rows=rows)\n",
    "\n",
    "user_minhashes = {} # Useful to store MinHash signatures for each user\n",
    "\n",
    "# Create MinHash signatures for users and insert into LSH index\n",
    "for index, row in tqdm(unique_users_df.iterrows(), total=len(unique_users_df), desc=\"Creating MinHash Signatures\"):\n",
    "    user_id = row['unique_user_id']\n",
    "    genres = row['agg_genres']\n",
    "\n",
    "    minhash = MinHash(num_perm=num_perm)\n",
    "    for genre in genres:\n",
    "        minhash.update(genre)\n",
    "\n",
    "    lsh_index.insert(user_id, minhash)\n",
    "    user_minhashes[user_id] = minhash"
   ]
  },
  {
   "cell_type": "code",
   "execution_count": 71,
   "id": "L1VakHsSrOEY",
   "metadata": {
    "id": "L1VakHsSrOEY"
   },
   "outputs": [],
   "source": [
    "# Query\n",
    "query_user_id = \"000052a0a0\"\n",
    "query_minhash = MinHash(num_perm=num_perm)\n",
    "query_genres = unique_users_df[unique_users_df['unique_user_id'] == query_user_id]['agg_genres'].iloc[0]\n",
    "\n",
    "\n",
    "for genre in query_genres:\n",
    "    query_minhash.update(genre)"
   ]
  },
  {
   "cell_type": "code",
   "execution_count": 72,
   "id": "c88zrpKrrP3Q",
   "metadata": {
    "colab": {
     "base_uri": "https://localhost:8080/"
    },
    "id": "c88zrpKrrP3Q",
    "outputId": "c610374b-8881-45da-87f8-8b9ac97fb981"
   },
   "outputs": [
    {
     "name": "stdout",
     "output_type": "stream",
     "text": [
      "The two most similar users to 000052a0a0 are: [('2bc1cc7445', 0.9104477611940298), ('67b5dc6e38', 0.9104477611940298)]\n"
     ]
    }
   ],
   "source": [
    "# Query LSH index for similar users\n",
    "similar_user_ids = lsh_index.query(query_minhash)\n",
    "\n",
    "# Calculate Jaccard similarity for potential similar users and store the results\n",
    "similar_users = []\n",
    "for similar_user_id in similar_user_ids:\n",
    "    if similar_user_id != query_user_id:  # Ignore the query user\n",
    "        similar_user_minhash = user_minhashes[similar_user_id]\n",
    "\n",
    "        # Calculate Jaccard similarity or use the MinHash similarity directly\n",
    "        jaccard_similarity_score = jaccard_similarity(query_minhash, similar_user_minhash)\n",
    "\n",
    "        similar_users.append({\"user_id\": similar_user_id, \"similarity\": jaccard_similarity_score})\n",
    "\n",
    "# Sort similar users by Jaccard similarity in descending order\n",
    "similar_users.sort(key=lambda x: x[\"similarity\"], reverse=True)\n",
    "\n",
    "top_two_similar_users = [(user[\"user_id\"], user[\"similarity\"]) for user in similar_users[:2]] # Take the top 2\n",
    "\n",
    "print(f\"The two most similar users to {query_user_id} are: {top_two_similar_users}\")\n"
   ]
  },
  {
   "cell_type": "markdown",
   "id": "591M-jp5rSHa",
   "metadata": {
    "id": "591M-jp5rSHa"
   },
   "source": [
    "Since we only have 'few' data to work with, the jaccard similarity scores are very high. If our dataset included information about more movies for each individual user, the jaccard similarity scores would start to get lower, and we will not have this problem of having multiple users with 1.0 scores. The main issue here is that each user have very few 'movie clicks' and these movies have similar genres. This combined with the fact that there are only 39 different genres equal to this problem. Once we have data about more movie clicks for each user,the agg_genres will start to vary significantly from user to user(since we are keeping duplicates of genres in the list) giving us a better picture of which users are actually more similar!"
   ]
  },
  {
   "cell_type": "code",
   "execution_count": 73,
   "id": "rIvyiQ0zrTrz",
   "metadata": {
    "colab": {
     "base_uri": "https://localhost:8080/"
    },
    "id": "rIvyiQ0zrTrz",
    "outputId": "0bdcfe31-6e48-4465-e065-2abd85ec0d58"
   },
   "outputs": [
    {
     "name": "stdout",
     "output_type": "stream",
     "text": [
      "{'1b49ce4c68', 'dafa2c64cb', '2bc1cc7445', 'ffe3133880', 'd855866483', '3c3d8ecc9a', '838bccaec6', '7576e9a6d2', 'ae2d63e302', 'e68fc46005', 'e626d644d8', '2d9347fc58', '117605fa60', '0ac85da99d', '000052a0a0', '18ec742a2c', 'bc0ea7b235', '979b1b64b8', 'c2e9bc5997', 'eaf069a3ae', 'dc7d24b54f', '6d8410f691', '1ec1abc2c5', 'f2d90a57cc', '6ab36797ea', 'd574b20ea9', 'e741bf79e9', 'cdce991194', '48ee8fa7e8', 'f9ce7b8bb8', '1b610a75ac', '19c41070cf', '0f9eac7f32', '525e3bef8d', '9e3c09142d', '6fb9bf0df4', '666f340f6f', 'c83546624f', '100c95b4e1', 'c0cd5b6801', 'af3c246e30', '6718ae9e57', 'ff7183a6da', '590881cc13', 'c5cdeebc68', '38480a19cd', 'fe4c122daf', 'd3995120c4', 'f2db2a25da', '92d8104e15', 'd1e5ffc888', 'd64055e54f', '665a1e2316', 'f571b82abe', 'bac2d604dd', '67b5dc6e38', 'd347fc5273', 'a607c643b4', 'f9ab08f0af', '3bc3e5bab3', 'f35babd544', 'e7f412c820', 'f17441184d', '955dd5a963', 'd42f279d9a', '839a082f67', '6efe3948b9', 'bfa48a0a9c', '8831e163e3', 'edab7a41b7', '2844826182', '87159df909', '9e9664e0e9', 'd38171549e', '6ebd5245cb', '56727139af', '11ccd6fe62', 'dd490b5507', 'ff63f47d62', '798f2427eb', '81667d37b1', '86d6b221ba', '8f3544fb25', '1b87aef1ed', '27b7eff7ab'}\n",
      "User: 1b49ce4c68  Jaccard Similarity: 0.855072463768116\n",
      "User: dafa2c64cb  Jaccard Similarity: 0.855072463768116\n",
      "User: 2bc1cc7445  Jaccard Similarity: 0.9104477611940298\n",
      "User: ffe3133880  Jaccard Similarity: 0.7414965986394558\n",
      "User: d855866483  Jaccard Similarity: 0.855072463768116\n"
     ]
    }
   ],
   "source": [
    "# Test to check if there are some Jaccard similarity != 1 from other users\n",
    "print(similar_user_ids)\n",
    "test = 0\n",
    "for user in similar_user_ids:\n",
    "    test += 1\n",
    "    manual_jaccard_similarity = jaccard_similarity(query_minhash, user_minhashes[user])\n",
    "    print(f\"User: {user}  Jaccard Similarity: {manual_jaccard_similarity}\")\n",
    "    if (test==5):\n",
    "      break\n"
   ]
  },
  {
   "cell_type": "code",
   "execution_count": 74,
   "id": "Wim1rf2QrWO-",
   "metadata": {
    "colab": {
     "base_uri": "https://localhost:8080/"
    },
    "id": "Wim1rf2QrWO-",
    "outputId": "07fea390-08cf-4076-e861-aee6f7a5100e"
   },
   "outputs": [
    {
     "name": "stdout",
     "output_type": "stream",
     "text": [
      "User ID: 1b49ce4c68, Genres: ['Action', 'Adventure', 'Drama', 'Sci-Fi', 'Thriller', 'Comedy', 'Sport', 'Adventure', 'Comedy', 'Family', 'Fantasy', 'Horror', 'Comedy', 'Crime', 'Comedy', 'Mystery', 'Thriller', 'Comedy', 'Mystery', 'Thriller']\n",
      "User ID: dafa2c64cb, Genres: ['Comedy', 'Drama', 'Family', 'Fantasy', 'Action', 'Comedy', 'Crime', 'Thriller', 'Animation', 'Action', 'Adventure', 'Comedy', 'Family', 'Fantasy', 'Sci-Fi', 'Action', 'Adventure', 'Comedy', 'Crime', 'Thriller', 'Animation', 'Adventure', 'Comedy', 'Family', 'Fantasy', 'Horror', 'Mystery', 'Sci-Fi', 'Animation', 'Adventure', 'Comedy', 'Family', 'Music']\n",
      "User ID: 2bc1cc7445, Genres: ['Animation', 'Adventure', 'Comedy', 'Family', 'Fantasy', 'Animation', 'Action', 'Drama', 'Fantasy', 'Horror', 'Sci-Fi', 'Thriller', 'Horror', 'Mystery', 'Thriller', 'Animation', 'Adventure', 'Comedy', 'Crime', 'Drama', 'Family', 'Comedy', 'Family', 'Fantasy', 'Drama', 'Adventure', 'Family', 'Sport', 'Animation', 'Adventure', 'Comedy', 'Family', 'Sci-Fi', 'Drama', 'Drama', 'Animation', 'Comedy', 'Family', 'Fantasy', 'Animation', 'Comedy', 'Family', 'Fantasy']\n",
      "User ID: ffe3133880, Genres: ['Action', 'Crime', 'Drama', 'Sci-Fi', 'Thriller', 'Action', 'Adventure', 'Crime', 'Drama', 'Thriller', 'Action', 'Comedy', 'Fantasy', 'Sci-Fi', 'Comedy', 'Action', 'Comedy', 'Sport', 'Comedy', 'Biography', 'Comedy', 'Drama', 'Music', 'Action', 'Sci-Fi', 'Thriller', 'Horror', 'Mystery', 'Sci-Fi', 'Comedy', 'Music']\n",
      "User ID: d855866483, Genres: ['Action', 'Crime', 'Drama', 'Music', 'Thriller', 'Comedy', 'Animation', 'Adventure', 'Comedy', 'Family', 'Fantasy', 'Horror', 'Mystery', 'Sci-Fi', 'Animation', 'Adventure', 'Comedy', 'Family', 'Fantasy']\n"
     ]
    }
   ],
   "source": [
    "# Test to check if the different users have similar genres in common\n",
    "test = 0\n",
    "for user_id in similar_user_ids:\n",
    "    test += 1\n",
    "    print(f\"User ID: {user_id}, Genres: {user_genres[user_id]}\")\n",
    "    if (test==5):\n",
    "      break"
   ]
  },
  {
   "cell_type": "code",
   "execution_count": 78,
   "id": "icjnAIVRrYHC",
   "metadata": {
    "id": "icjnAIVRrYHC"
   },
   "outputs": [],
   "source": [
    "# Function to find all the movies watched by the user\n",
    "def movies_watched_by_user(user_id, df):\n",
    "    user_movies = df[df['user_id'] == user_id]\n",
    "    movies_count = user_movies['title'].value_counts().reset_index()\n",
    "    movies_count.columns = ['title', 'count']\n",
    "    return movies_count"
   ]
  },
  {
   "cell_type": "code",
   "execution_count": 76,
   "id": "XBgvQdCVrZBD",
   "metadata": {
    "colab": {
     "base_uri": "https://localhost:8080/"
    },
    "id": "XBgvQdCVrZBD",
    "outputId": "7062a5d8-cbee-4f8e-9698-2bea69845397"
   },
   "outputs": [
    {
     "name": "stdout",
     "output_type": "stream",
     "text": [
      "\n",
      "User ID: 2bc1cc7445\n",
      "Movies clicked:                    title  count\n",
      "0             Fight Club      2\n",
      "1       Arthur Christmas      1\n",
      "2                GANTZ:O      1\n",
      "3                 Hostel      1\n",
      "4      Fantastic Mr. Fox      1\n",
      "5                Matilda      1\n",
      "6     The Black Stallion      1\n",
      "7                Minions      1\n",
      "8               Rain Man      1\n",
      "9   Hotel Transylvania 2      1\n",
      "10    Hotel Transylvania      1\n",
      "\n",
      "User ID: 67b5dc6e38\n",
      "Movies clicked:                                              title  count\n",
      "0                            Live Free or Die Hard      3\n",
      "1                                         Blow Out      2\n",
      "2                      Goon: Last of the Enforcers      2\n",
      "3            The Girl Who Kicked the Hornets' Nest      1\n",
      "4                       Ace Ventura: Pet Detective      1\n",
      "5                                           2 Guns      1\n",
      "6                                       Waterworld      1\n",
      "7   Wallace & Gromit: The Curse of the Were-Rabbit      1\n",
      "8                                      The Kingdom      1\n",
      "9                                    Double Impact      1\n",
      "10                            Hot Shots! Part Deux      1\n",
      "11                               Kill Bill: Vol. 1      1\n"
     ]
    }
   ],
   "source": [
    "# Extract similar user_ids\n",
    "top_similar_users = [user_id for user_id, _ in top_two_similar_users]\n",
    "user_movies = {}\n",
    "\n",
    "for user_id in top_similar_users: # Get movies watched by each top similar user\n",
    "    movies_watched = movies_watched_by_user(user_id, df)\n",
    "    user_movies[user_id] = movies_watched\n",
    "    print(f\"\\nUser ID: {user_id}\\nMovies clicked: {movies_watched}\")"
   ]
  },
  {
   "cell_type": "markdown",
   "id": "a8j5RT6RrbRj",
   "metadata": {
    "id": "a8j5RT6RrbRj"
   },
   "source": [
    "Using the recommendation set in the RQ to create the suggestion list."
   ]
  },
  {
   "cell_type": "code",
   "execution_count": 77,
   "id": "z4QaqVcDrbyJ",
   "metadata": {
    "colab": {
     "base_uri": "https://localhost:8080/"
    },
    "id": "z4QaqVcDrbyJ",
    "outputId": "a9a47be6-2d03-420b-e391-8a7f1bb5eeea"
   },
   "outputs": [
    {
     "name": "stdout",
     "output_type": "stream",
     "text": [
      "\n",
      "Recommended movies in order:\n",
      "Title: Fight Club, Counts: [2, 0]\n",
      "Title: Arthur Christmas, Counts: [1, 0]\n",
      "Title: GANTZ:O, Counts: [1, 0]\n",
      "Title: Hostel, Counts: [1, 0]\n",
      "Title: Fantastic Mr. Fox, Counts: [1, 0]\n"
     ]
    }
   ],
   "source": [
    "# Check if there are common movies\n",
    "common_movies = pd.concat([user_movies[user_id].set_index('title') for user_id in top_similar_users], axis=1, join='inner')\n",
    "\n",
    "#Sort common movies by the sum of counts across both users in descending order\n",
    "sorted_common_movies = common_movies.sum(axis=1).sort_values(ascending=False)\n",
    "\n",
    "# Separate common movies from individual movies\n",
    "common_movies_list = sorted_common_movies.index.tolist()\n",
    "individual_movies = [user_movies[user_id].sort_values(by='count', ascending=False).reset_index() for user_id in top_similar_users]\n",
    "individual_movies = [df[~df['title'].isin(common_movies_list)] for df in individual_movies]\n",
    "\n",
    "recommendation_list = common_movies_list[:5]\n",
    "\n",
    "# Check if we need more movies from individual users\n",
    "remaining_slots = 5 - len(recommendation_list)\n",
    "\n",
    "# Fill the recommendation list with movies from user 1\n",
    "recommendation_list += individual_movies[0]['title'].head(remaining_slots).tolist()\n",
    "remaining_slots = 5 - len(recommendation_list)\n",
    "\n",
    "# If needed, fill the remaining slots with movies from user 2\n",
    "if remaining_slots > 0:\n",
    "    recommendation_list += individual_movies[1]['title'].head(remaining_slots).tolist()\n",
    "\n",
    "print(\"\\nRecommended movies in order:\")\n",
    "for title in recommendation_list:\n",
    "    counts = [user_movies[user_id].set_index('title').loc[title, 'count'] if title in user_movies[user_id]['title'].values else 0 for user_id in top_similar_users]\n",
    "    print(f\"Title: {title}, Counts: {counts}\")"
   ]
  },
  {
   "cell_type": "markdown",
   "id": "SlpN4V_gKFxH",
   "metadata": {
    "id": "SlpN4V_gKFxH"
   },
   "source": [
    "Since there are no common movies between the two users similar to the query, the first user gets priority. Since he watched 5 movies, those 5 movies are recommended for the query user"
   ]
  },
  {
   "cell_type": "markdown",
   "id": "OXlPAnyitvZV",
   "metadata": {
    "id": "OXlPAnyitvZV"
   },
   "source": [
    "# 2.Grouping Users together!"
   ]
  },
  {
   "cell_type": "markdown",
   "id": "ed6ea09cfacae439",
   "metadata": {
    "collapsed": false,
    "id": "ed6ea09cfacae439",
    "jupyter": {
     "outputs_hidden": false
    }
   },
   "source": [
    "## Preprocessing\n",
    "Removing negative values from the duration column."
   ]
  },
  {
   "cell_type": "code",
   "execution_count": 79,
   "id": "f4f2aecb9998c20f",
   "metadata": {
    "ExecuteTime": {
     "end_time": "2023-12-17T09:56:21.403152900Z",
     "start_time": "2023-12-17T09:56:21.217893400Z"
    },
    "id": "f4f2aecb9998c20f"
   },
   "outputs": [],
   "source": [
    "# Filter out rows with negative durations\n",
    "df = df[df['duration'] >= 0]"
   ]
  },
  {
   "cell_type": "markdown",
   "id": "OrP9N07Kyqy3",
   "metadata": {
    "id": "OrP9N07Kyqy3"
   },
   "source": [
    "## 2.1. Getting your data + feature engineering"
   ]
  },
  {
   "cell_type": "markdown",
   "id": "UXiRB_vvzPYq",
   "metadata": {
    "id": "UXiRB_vvzPYq"
   },
   "source": [
    "### 2.1.2."
   ]
  },
  {
   "cell_type": "markdown",
   "id": "7a80b90cb643c88b",
   "metadata": {
    "collapsed": false,
    "id": "7a80b90cb643c88b",
    "jupyter": {
     "outputs_hidden": false
    }
   },
   "source": [
    "#### 2.1.a.\n"
   ]
  },
  {
   "cell_type": "markdown",
   "id": "jwHo9PE1uHu_",
   "metadata": {
    "id": "jwHo9PE1uHu_"
   },
   "source": [
    "First we separate all the different genres of each movie, group the together by duration and index the maximum value to get the favorite genres of each user ID."
   ]
  },
  {
   "cell_type": "code",
   "execution_count": null,
   "id": "ce3d5ad12396dbb1",
   "metadata": {
    "ExecuteTime": {
     "end_time": "2023-12-17T09:57:12.548181700Z",
     "start_time": "2023-12-17T09:56:21.413171400Z"
    },
    "id": "ce3d5ad12396dbb1"
   },
   "outputs": [],
   "source": [
    "# Split the 'genres' column into separate genres\n",
    "df['fav_genre'] = df['genres'].str.split(', ')\n",
    "\n",
    "df_exploded = df.explode('fav_genre')\n",
    "grouped_data = df_exploded.groupby(['user_id', 'fav_genre'])['duration'].sum().reset_index() # Grouping by user and genre, then sum the durations\n",
    "\n",
    "# Genre with highest duration for each user\n",
    "idx = grouped_data.groupby('user_id')['duration'].idxmax()\n",
    "result = grouped_data.loc[idx]\n",
    "\n",
    "new_df = result[['user_id', 'fav_genre']]"
   ]
  },
  {
   "cell_type": "markdown",
   "id": "abd20e22affadafb",
   "metadata": {
    "collapsed": false,
    "id": "abd20e22affadafb",
    "jupyter": {
     "outputs_hidden": false
    }
   },
   "source": [
    "#### 2.1.b.\n",
    "Average user click duration."
   ]
  },
  {
   "cell_type": "code",
   "execution_count": null,
   "id": "830fee0c4e4b7b00",
   "metadata": {
    "ExecuteTime": {
     "end_time": "2023-12-17T09:57:13.718885300Z",
     "start_time": "2023-12-17T09:57:12.554692400Z"
    },
    "id": "830fee0c4e4b7b00"
   },
   "outputs": [],
   "source": [
    "# Calculating average click duration for each user\n",
    "avg_click_duration = df.groupby('user_id')['duration'].mean().reset_index()\n",
    "new_df = pd.merge(new_df, avg_click_duration)\n",
    "new_df = new_df.rename(columns={'duration': 'avg_click_duration'})"
   ]
  },
  {
   "cell_type": "markdown",
   "id": "e9820a019c6d01fa",
   "metadata": {
    "collapsed": false,
    "id": "e9820a019c6d01fa",
    "jupyter": {
     "outputs_hidden": false
    }
   },
   "source": [
    "#### 2.1.c."
   ]
  },
  {
   "cell_type": "markdown",
   "id": "xbMgqc5euO7e",
   "metadata": {
    "id": "xbMgqc5euO7e"
   },
   "source": [
    "First we convert the datetime column to Pandas datetime format, we use the formatted time to calculate each movie clicks time period of the day, and finally we find the max value for the favorite time of the day for each user."
   ]
  },
  {
   "cell_type": "code",
   "execution_count": null,
   "id": "424c03cbc32034bc",
   "metadata": {
    "ExecuteTime": {
     "end_time": "2023-12-17T09:57:28.939969Z",
     "start_time": "2023-12-17T09:57:13.729895100Z"
    },
    "id": "424c03cbc32034bc"
   },
   "outputs": [],
   "source": [
    "df['datetime'] = pd.to_datetime(df['datetime'])\n",
    "df['time_of_day'] = pd.cut(df['datetime'].dt.hour, bins=[0, 6, 12, 18, 24], labels=['Night', 'Morning', 'Afternoon', 'Night'], ordered=False) # Bins = intervals to find the different times of the day\n",
    "\n",
    "# Find the time of the day with the maximum duration for each user\n",
    "time_of_day_max_duration = df.groupby(['user_id', 'time_of_day'])['duration'].sum().reset_index()\n",
    "idx_time_of_day = time_of_day_max_duration.groupby('user_id')['duration'].idxmax()\n",
    "result_time_of_day = time_of_day_max_duration.loc[idx_time_of_day]\n",
    "new_df = pd.merge(new_df, result_time_of_day[['user_id', 'time_of_day']])"
   ]
  },
  {
   "cell_type": "markdown",
   "id": "c2955d80d71ccc98",
   "metadata": {
    "collapsed": false,
    "id": "c2955d80d71ccc98",
    "jupyter": {
     "outputs_hidden": false
    }
   },
   "source": [
    "#### 2.1.d.\n"
   ]
  },
  {
   "cell_type": "markdown",
   "id": "M172gvz0uSFe",
   "metadata": {
    "id": "M172gvz0uSFe"
   },
   "source": [
    "Some release date rows are \"NOT AVAILABLE\". We decided to ignore those rows instead of removing them all together since those rows contain valueable information on the other columns."
   ]
  },
  {
   "cell_type": "code",
   "execution_count": null,
   "id": "b498ffc37b860115",
   "metadata": {
    "ExecuteTime": {
     "end_time": "2023-12-17T09:57:29.931555500Z",
     "start_time": "2023-12-17T09:57:28.939969Z"
    },
    "id": "b498ffc37b860115"
   },
   "outputs": [],
   "source": [
    "# Convert the column ignoring errors\n",
    "df['release_date'] = pd.to_datetime(df['release_date'], errors='coerce')\n",
    "\n",
    "# Determin if the user prefers old or recent content\n",
    "df['release_year'] = df['release_date'].dt.year\n",
    "old_movie_lover = df[df['release_year'] < 2010].groupby('user_id').size().reset_index(name='old_movie_count')\n",
    "recent_movie_lover = df[df['release_year'] >= 2010].groupby('user_id').size().reset_index(name='recent_movie_count')\n",
    "movie_preference = pd.merge(old_movie_lover, recent_movie_lover, on='user_id', how='outer').fillna(0)\n",
    "movie_preference['preference'] = 'Old'  # Default preference is set to 'Old'\n",
    "movie_preference.loc[movie_preference['recent_movie_count'] > movie_preference['old_movie_count'], 'preference'] = 'Recent'\n",
    "new_df = pd.merge(new_df, movie_preference[['user_id', 'preference']])"
   ]
  },
  {
   "cell_type": "markdown",
   "id": "fe236bdd1e5ab50e",
   "metadata": {
    "collapsed": false,
    "id": "fe236bdd1e5ab50e",
    "jupyter": {
     "outputs_hidden": false
    }
   },
   "source": [
    "#### 2.1.e.\n",
    "Calculation the daily average for each user ID."
   ]
  },
  {
   "cell_type": "code",
   "execution_count": null,
   "id": "609fe915fdeb1781",
   "metadata": {
    "ExecuteTime": {
     "end_time": "2023-12-17T09:57:31.022721600Z",
     "start_time": "2023-12-17T09:57:29.937063700Z"
    },
    "id": "609fe915fdeb1781"
   },
   "outputs": [],
   "source": [
    "daily_avg_duration = df.groupby(['user_id', df['datetime'].dt.date])['duration'].sum().groupby('user_id').mean().reset_index(name='daily_avg_duration')\n",
    "new_df = pd.merge(new_df, daily_avg_duration)"
   ]
  },
  {
   "cell_type": "markdown",
   "id": "d9b9c8aa4407599c",
   "metadata": {
    "collapsed": false,
    "id": "d9b9c8aa4407599c",
    "jupyter": {
     "outputs_hidden": false
    }
   },
   "source": [
    "#### Visualizing our new dataframe."
   ]
  },
  {
   "cell_type": "code",
   "execution_count": null,
   "id": "cb29b7d2ebb0885b",
   "metadata": {
    "ExecuteTime": {
     "end_time": "2023-12-17T09:57:31.094167200Z",
     "start_time": "2023-12-17T09:57:31.022721600Z"
    },
    "id": "cb29b7d2ebb0885b",
    "outputId": "bc92f348-cce5-4446-d60e-8e7673ac1671"
   },
   "outputs": [
    {
     "data": {
      "text/html": [
       "<div>\n",
       "<style scoped>\n",
       "    .dataframe tbody tr th:only-of-type {\n",
       "        vertical-align: middle;\n",
       "    }\n",
       "\n",
       "    .dataframe tbody tr th {\n",
       "        vertical-align: top;\n",
       "    }\n",
       "\n",
       "    .dataframe thead th {\n",
       "        text-align: right;\n",
       "    }\n",
       "</style>\n",
       "<table border=\"1\" class=\"dataframe\">\n",
       "  <thead>\n",
       "    <tr style=\"text-align: right;\">\n",
       "      <th></th>\n",
       "      <th>user_id</th>\n",
       "      <th>fav_genre</th>\n",
       "      <th>avg_click_duration</th>\n",
       "      <th>time_of_day</th>\n",
       "      <th>preference</th>\n",
       "      <th>daily_avg_duration</th>\n",
       "    </tr>\n",
       "  </thead>\n",
       "  <tbody>\n",
       "    <tr>\n",
       "      <th>55190</th>\n",
       "      <td>5e05493ef1</td>\n",
       "      <td>Documentary</td>\n",
       "      <td>10174.0</td>\n",
       "      <td>Afternoon</td>\n",
       "      <td>Recent</td>\n",
       "      <td>20348.000000</td>\n",
       "    </tr>\n",
       "    <tr>\n",
       "      <th>144846</th>\n",
       "      <td>f64ea85165</td>\n",
       "      <td>Adventure</td>\n",
       "      <td>294008.8</td>\n",
       "      <td>Afternoon</td>\n",
       "      <td>Old</td>\n",
       "      <td>490014.666667</td>\n",
       "    </tr>\n",
       "    <tr>\n",
       "      <th>106193</th>\n",
       "      <td>b4a2d77b8b</td>\n",
       "      <td>Biography</td>\n",
       "      <td>0.0</td>\n",
       "      <td>Afternoon</td>\n",
       "      <td>Recent</td>\n",
       "      <td>0.000000</td>\n",
       "    </tr>\n",
       "    <tr>\n",
       "      <th>33477</th>\n",
       "      <td>39090518b6</td>\n",
       "      <td>Action</td>\n",
       "      <td>1220.0</td>\n",
       "      <td>Night</td>\n",
       "      <td>Recent</td>\n",
       "      <td>1220.000000</td>\n",
       "    </tr>\n",
       "    <tr>\n",
       "      <th>13263</th>\n",
       "      <td>16baf593e4</td>\n",
       "      <td>Comedy</td>\n",
       "      <td>0.0</td>\n",
       "      <td>Afternoon</td>\n",
       "      <td>Old</td>\n",
       "      <td>0.000000</td>\n",
       "    </tr>\n",
       "  </tbody>\n",
       "</table>\n",
       "</div>"
      ],
      "text/plain": [
       "           user_id    fav_genre  avg_click_duration time_of_day preference  \\\n",
       "55190   5e05493ef1  Documentary             10174.0   Afternoon     Recent   \n",
       "144846  f64ea85165    Adventure            294008.8   Afternoon        Old   \n",
       "106193  b4a2d77b8b    Biography                 0.0   Afternoon     Recent   \n",
       "33477   39090518b6       Action              1220.0       Night     Recent   \n",
       "13263   16baf593e4       Comedy                 0.0   Afternoon        Old   \n",
       "\n",
       "        daily_avg_duration  \n",
       "55190         20348.000000  \n",
       "144846       490014.666667  \n",
       "106193            0.000000  \n",
       "33477          1220.000000  \n",
       "13263             0.000000  "
      ]
     },
     "execution_count": 9,
     "metadata": {},
     "output_type": "execute_result"
    }
   ],
   "source": [
    "new_df.sample(5)"
   ]
  },
  {
   "cell_type": "markdown",
   "id": "672d63701dcacaaa",
   "metadata": {
    "collapsed": false,
    "id": "672d63701dcacaaa",
    "jupyter": {
     "outputs_hidden": false
    }
   },
   "source": [
    "### 2.1.3. reating 10 new features for our dataset.\n"
   ]
  },
  {
   "cell_type": "markdown",
   "id": "bK11NaIkvMEv",
   "metadata": {
    "id": "bK11NaIkvMEv"
   },
   "source": [
    "#### Feature 1: Total duration spent on the platform by each user"
   ]
  },
  {
   "cell_type": "code",
   "execution_count": null,
   "id": "fd0304e326a453",
   "metadata": {
    "ExecuteTime": {
     "end_time": "2023-12-17T09:57:31.634771200Z",
     "start_time": "2023-12-17T09:57:31.078513600Z"
    },
    "id": "fd0304e326a453"
   },
   "outputs": [],
   "source": [
    "total_duration_per_user = df.groupby('user_id')['duration'].sum()\n",
    "new_df['total_duration'] = new_df['user_id'].map(total_duration_per_user)"
   ]
  },
  {
   "cell_type": "markdown",
   "id": "6d77743c14812a7",
   "metadata": {
    "collapsed": false,
    "id": "6d77743c14812a7",
    "jupyter": {
     "outputs_hidden": false
    }
   },
   "source": [
    "#### Feature 2: Number of distinct genres the user has clicked on"
   ]
  },
  {
   "cell_type": "code",
   "execution_count": null,
   "id": "301ffb84b8c4165b",
   "metadata": {
    "ExecuteTime": {
     "end_time": "2023-12-17T09:57:37.556771100Z",
     "start_time": "2023-12-17T09:57:31.659981600Z"
    },
    "id": "301ffb84b8c4165b"
   },
   "outputs": [],
   "source": [
    "distinct_genres_per_user = df.groupby('user_id')['fav_genre'].agg(lambda x: len(set(y for sublist in x for y in sublist)))\n",
    "new_df['num_distinct_genres'] = new_df['user_id'].map(distinct_genres_per_user)"
   ]
  },
  {
   "cell_type": "markdown",
   "id": "95afcc5087e200b9",
   "metadata": {
    "collapsed": false,
    "id": "95afcc5087e200b9",
    "jupyter": {
     "outputs_hidden": false
    }
   },
   "source": [
    "#### Feature 3: Total duration of clicks in the user's favorite genre"
   ]
  },
  {
   "cell_type": "code",
   "execution_count": null,
   "id": "d977fd73a9d8f2d1",
   "metadata": {
    "ExecuteTime": {
     "end_time": "2023-12-17T09:57:38.317469600Z",
     "start_time": "2023-12-17T09:57:37.558770600Z"
    },
    "id": "d977fd73a9d8f2d1"
   },
   "outputs": [],
   "source": [
    "# Explode the 'genres' column into separate rows\n",
    "df_exploded_genres = df.explode('genres')\n",
    "\n",
    "# Calculate the total duration of clicks in the user's favorite genre\n",
    "fav_genre_total_duration = df_exploded_genres[df_exploded_genres['genres'].isin(new_df['fav_genre'])].groupby('user_id')['duration'].sum()\n",
    "fav_genre_total_duration = fav_genre_total_duration.reset_index(name='fav_genre_duration').fillna(0)\n",
    "new_df = pd.merge(new_df, fav_genre_total_duration)"
   ]
  },
  {
   "cell_type": "markdown",
   "id": "16a64eb261d2685c",
   "metadata": {
    "collapsed": false,
    "id": "16a64eb261d2685c",
    "jupyter": {
     "outputs_hidden": false
    }
   },
   "source": [
    "#### Feature 4: Number of clicks on weekends"
   ]
  },
  {
   "cell_type": "code",
   "execution_count": null,
   "id": "8a871ba2edccfeaa",
   "metadata": {
    "ExecuteTime": {
     "end_time": "2023-12-17T09:57:38.871214900Z",
     "start_time": "2023-12-17T09:57:38.321552Z"
    },
    "id": "8a871ba2edccfeaa"
   },
   "outputs": [],
   "source": [
    "df['is_weekend'] = (df['datetime'].dt.weekday >= 5).astype(int)\n",
    "total_weekend_clicks = df.groupby('user_id')['is_weekend'].sum().reset_index(name = 'total_weekend_clicks')\n",
    "new_df = pd.merge(new_df, total_weekend_clicks)"
   ]
  },
  {
   "cell_type": "markdown",
   "id": "6b963087c46e6075",
   "metadata": {
    "collapsed": false,
    "id": "6b963087c46e6075",
    "jupyter": {
     "outputs_hidden": false
    }
   },
   "source": [
    "#### Feature 5: Click frequency per day"
   ]
  },
  {
   "cell_type": "code",
   "execution_count": null,
   "id": "743d3f453abf132a",
   "metadata": {
    "ExecuteTime": {
     "end_time": "2023-12-17T09:57:40.019261300Z",
     "start_time": "2023-12-17T09:57:38.885457700Z"
    },
    "id": "743d3f453abf132a"
   },
   "outputs": [],
   "source": [
    "clicks_per_day = df.groupby(['user_id', pd.to_datetime(df['datetime']).dt.date])['datetime'].count().reset_index(name='clicks_per_day')\n",
    "avg_clicks_per_day = clicks_per_day.groupby('user_id')['clicks_per_day'].mean()\n",
    "new_df['avg_clicks_per_day'] = new_df['user_id'].map(avg_clicks_per_day).fillna(0)"
   ]
  },
  {
   "cell_type": "markdown",
   "id": "2c81110d5526a44b",
   "metadata": {
    "collapsed": false,
    "id": "2c81110d5526a44b",
    "jupyter": {
     "outputs_hidden": false
    }
   },
   "source": [
    "#### Feature 6: Number of clicks per user"
   ]
  },
  {
   "cell_type": "code",
   "execution_count": null,
   "id": "5624cbddce8e6842",
   "metadata": {
    "ExecuteTime": {
     "end_time": "2023-12-17T09:57:40.324609600Z",
     "start_time": "2023-12-17T09:57:40.022263200Z"
    },
    "id": "5624cbddce8e6842"
   },
   "outputs": [],
   "source": [
    "num_clicks_per_user = df['user_id'].value_counts()\n",
    "new_df['num_clicks'] = new_df['user_id'].map(num_clicks_per_user)"
   ]
  },
  {
   "cell_type": "markdown",
   "id": "9e1fab34c37a05d4",
   "metadata": {
    "collapsed": false,
    "id": "9e1fab34c37a05d4",
    "jupyter": {
     "outputs_hidden": false
    }
   },
   "source": [
    "#### Feature 7: Calculate the average number of clicks per day for each user"
   ]
  },
  {
   "cell_type": "code",
   "execution_count": null,
   "id": "eef401eb932c4f83",
   "metadata": {
    "ExecuteTime": {
     "end_time": "2023-12-17T09:57:41.660856500Z",
     "start_time": "2023-12-17T09:57:40.326610900Z"
    },
    "id": "eef401eb932c4f83"
   },
   "outputs": [],
   "source": [
    "avg_clicks_per_day = df.groupby(['user_id', df['datetime'].dt.date]).size().groupby('user_id').mean().reset_index(name='avg_clicks_per_day')\n",
    "new_df = pd.merge(new_df, avg_clicks_per_day)"
   ]
  },
  {
   "cell_type": "markdown",
   "id": "739d69bd8a82840f",
   "metadata": {
    "collapsed": false,
    "id": "739d69bd8a82840f",
    "jupyter": {
     "outputs_hidden": false
    }
   },
   "source": [
    "#### Feature 8: Number of clicks on old movies"
   ]
  },
  {
   "cell_type": "code",
   "execution_count": null,
   "id": "7739e28551d14743",
   "metadata": {
    "ExecuteTime": {
     "end_time": "2023-12-17T09:57:41.818515400Z",
     "start_time": "2023-12-17T09:57:41.680341800Z"
    },
    "id": "7739e28551d14743"
   },
   "outputs": [],
   "source": [
    "new_df['is_old_movie_lover'] = (pd.to_datetime(df['release_date']).dt.year < 2010).astype(int)"
   ]
  },
  {
   "cell_type": "markdown",
   "id": "453cb45154e9fc47",
   "metadata": {
    "collapsed": false,
    "id": "453cb45154e9fc47",
    "jupyter": {
     "outputs_hidden": false
    }
   },
   "source": [
    "#### Feature 9: Percentage of movies watched that are considered old (released before 2010)\n"
   ]
  },
  {
   "cell_type": "code",
   "execution_count": null,
   "id": "925e0d1143efcc30",
   "metadata": {
    "ExecuteTime": {
     "end_time": "2023-12-17T09:57:42.507050300Z",
     "start_time": "2023-12-17T09:57:41.821618100Z"
    },
    "id": "925e0d1143efcc30"
   },
   "outputs": [],
   "source": [
    "old_movies_percentage = df[df['release_year'] < 2010].groupby('user_id').size() / df.groupby('user_id').size()\n",
    "new_df['old_movies_percentage'] = old_movies_percentage.reset_index(name='old_movies')['old_movies'].fillna(0)"
   ]
  },
  {
   "cell_type": "markdown",
   "id": "84c9a4b7e869107a",
   "metadata": {
    "collapsed": false,
    "id": "84c9a4b7e869107a",
    "jupyter": {
     "outputs_hidden": false
    }
   },
   "source": [
    "#### Feature 10: Maximum duration of a single click for each user"
   ]
  },
  {
   "cell_type": "code",
   "execution_count": null,
   "id": "65c858656db467dd",
   "metadata": {
    "ExecuteTime": {
     "end_time": "2023-12-17T09:57:42.969492Z",
     "start_time": "2023-12-17T09:57:42.517251200Z"
    },
    "id": "65c858656db467dd"
   },
   "outputs": [],
   "source": [
    "new_df['max_click_duration'] = df.groupby('user_id')['duration'].max().reset_index()['duration']"
   ]
  },
  {
   "cell_type": "markdown",
   "id": "32ac1c2fa850e374",
   "metadata": {
    "collapsed": false,
    "id": "32ac1c2fa850e374",
    "jupyter": {
     "outputs_hidden": false
    }
   },
   "source": [
    "#### Visualizing our new Dataframe"
   ]
  },
  {
   "cell_type": "code",
   "execution_count": null,
   "id": "1d9cc59442a3f940",
   "metadata": {
    "ExecuteTime": {
     "end_time": "2023-12-17T09:57:43.043895300Z",
     "start_time": "2023-12-17T09:57:42.972495400Z"
    },
    "id": "1d9cc59442a3f940",
    "outputId": "a144e259-2b8f-4b0e-9243-1648cea2c904"
   },
   "outputs": [
    {
     "data": {
      "text/html": [
       "<div>\n",
       "<style scoped>\n",
       "    .dataframe tbody tr th:only-of-type {\n",
       "        vertical-align: middle;\n",
       "    }\n",
       "\n",
       "    .dataframe tbody tr th {\n",
       "        vertical-align: top;\n",
       "    }\n",
       "\n",
       "    .dataframe thead th {\n",
       "        text-align: right;\n",
       "    }\n",
       "</style>\n",
       "<table border=\"1\" class=\"dataframe\">\n",
       "  <thead>\n",
       "    <tr style=\"text-align: right;\">\n",
       "      <th></th>\n",
       "      <th>user_id</th>\n",
       "      <th>fav_genre</th>\n",
       "      <th>avg_click_duration</th>\n",
       "      <th>time_of_day</th>\n",
       "      <th>preference</th>\n",
       "      <th>daily_avg_duration</th>\n",
       "      <th>total_duration</th>\n",
       "      <th>num_distinct_genres</th>\n",
       "      <th>fav_genre_duration</th>\n",
       "      <th>total_weekend_clicks</th>\n",
       "      <th>avg_clicks_per_day</th>\n",
       "      <th>num_clicks</th>\n",
       "      <th>is_old_movie_lover</th>\n",
       "      <th>old_movies_percentage</th>\n",
       "      <th>max_click_duration</th>\n",
       "    </tr>\n",
       "  </thead>\n",
       "  <tbody>\n",
       "    <tr>\n",
       "      <th>34339</th>\n",
       "      <td>b54f856464</td>\n",
       "      <td>Family</td>\n",
       "      <td>0.000000</td>\n",
       "      <td>Afternoon</td>\n",
       "      <td>Recent</td>\n",
       "      <td>0.000000</td>\n",
       "      <td>0.0</td>\n",
       "      <td>1</td>\n",
       "      <td>0.0</td>\n",
       "      <td>0</td>\n",
       "      <td>1.000000</td>\n",
       "      <td>1</td>\n",
       "      <td>0.0</td>\n",
       "      <td>0.2</td>\n",
       "      <td>600.0</td>\n",
       "    </tr>\n",
       "    <tr>\n",
       "      <th>987</th>\n",
       "      <td>0532fd265d</td>\n",
       "      <td>Adventure</td>\n",
       "      <td>7867.515152</td>\n",
       "      <td>Afternoon</td>\n",
       "      <td>Recent</td>\n",
       "      <td>19971.384615</td>\n",
       "      <td>259628.0</td>\n",
       "      <td>16</td>\n",
       "      <td>0.0</td>\n",
       "      <td>17</td>\n",
       "      <td>2.538462</td>\n",
       "      <td>33</td>\n",
       "      <td>1.0</td>\n",
       "      <td>1.0</td>\n",
       "      <td>7937.0</td>\n",
       "    </tr>\n",
       "    <tr>\n",
       "      <th>491</th>\n",
       "      <td>0274c96571</td>\n",
       "      <td>Documentary</td>\n",
       "      <td>0.000000</td>\n",
       "      <td>Afternoon</td>\n",
       "      <td>Old</td>\n",
       "      <td>0.000000</td>\n",
       "      <td>0.0</td>\n",
       "      <td>1</td>\n",
       "      <td>0.0</td>\n",
       "      <td>0</td>\n",
       "      <td>1.000000</td>\n",
       "      <td>1</td>\n",
       "      <td>0.0</td>\n",
       "      <td>0.0</td>\n",
       "      <td>0.0</td>\n",
       "    </tr>\n",
       "    <tr>\n",
       "      <th>14539</th>\n",
       "      <td>4d48753987</td>\n",
       "      <td>Action</td>\n",
       "      <td>119.800000</td>\n",
       "      <td>Night</td>\n",
       "      <td>Recent</td>\n",
       "      <td>299.500000</td>\n",
       "      <td>599.0</td>\n",
       "      <td>9</td>\n",
       "      <td>0.0</td>\n",
       "      <td>2</td>\n",
       "      <td>2.500000</td>\n",
       "      <td>5</td>\n",
       "      <td>1.0</td>\n",
       "      <td>0.4</td>\n",
       "      <td>3880.0</td>\n",
       "    </tr>\n",
       "    <tr>\n",
       "      <th>35220</th>\n",
       "      <td>ba1212ef20</td>\n",
       "      <td>Comedy</td>\n",
       "      <td>42815.250000</td>\n",
       "      <td>Night</td>\n",
       "      <td>Recent</td>\n",
       "      <td>42815.250000</td>\n",
       "      <td>171261.0</td>\n",
       "      <td>6</td>\n",
       "      <td>171261.0</td>\n",
       "      <td>3</td>\n",
       "      <td>1.000000</td>\n",
       "      <td>4</td>\n",
       "      <td>1.0</td>\n",
       "      <td>0.0</td>\n",
       "      <td>6384.0</td>\n",
       "    </tr>\n",
       "  </tbody>\n",
       "</table>\n",
       "</div>"
      ],
      "text/plain": [
       "          user_id    fav_genre  avg_click_duration time_of_day preference  \\\n",
       "34339  b54f856464       Family            0.000000   Afternoon     Recent   \n",
       "987    0532fd265d    Adventure         7867.515152   Afternoon     Recent   \n",
       "491    0274c96571  Documentary            0.000000   Afternoon        Old   \n",
       "14539  4d48753987       Action          119.800000       Night     Recent   \n",
       "35220  ba1212ef20       Comedy        42815.250000       Night     Recent   \n",
       "\n",
       "       daily_avg_duration  total_duration  num_distinct_genres  \\\n",
       "34339            0.000000             0.0                    1   \n",
       "987          19971.384615        259628.0                   16   \n",
       "491              0.000000             0.0                    1   \n",
       "14539          299.500000           599.0                    9   \n",
       "35220        42815.250000        171261.0                    6   \n",
       "\n",
       "       fav_genre_duration  total_weekend_clicks  avg_clicks_per_day  \\\n",
       "34339                 0.0                     0            1.000000   \n",
       "987                   0.0                    17            2.538462   \n",
       "491                   0.0                     0            1.000000   \n",
       "14539                 0.0                     2            2.500000   \n",
       "35220            171261.0                     3            1.000000   \n",
       "\n",
       "       num_clicks  is_old_movie_lover  old_movies_percentage  \\\n",
       "34339           1                 0.0                    0.2   \n",
       "987            33                 1.0                    1.0   \n",
       "491             1                 0.0                    0.0   \n",
       "14539           5                 1.0                    0.4   \n",
       "35220           4                 1.0                    0.0   \n",
       "\n",
       "       max_click_duration  \n",
       "34339               600.0  \n",
       "987                7937.0  \n",
       "491                   0.0  \n",
       "14539              3880.0  \n",
       "35220              6384.0  "
      ]
     },
     "execution_count": 20,
     "metadata": {},
     "output_type": "execute_result"
    }
   ],
   "source": [
    "new_df.sample(5)"
   ]
  },
  {
   "cell_type": "markdown",
   "id": "e7a94f267f0d2308",
   "metadata": {
    "collapsed": false,
    "id": "e7a94f267f0d2308",
    "jupyter": {
     "outputs_hidden": false
    }
   },
   "source": [
    "## 2.2. Choose your features (variables)!"
   ]
  },
  {
   "cell_type": "markdown",
   "id": "48ba92eb4c29e487",
   "metadata": {
    "collapsed": false,
    "id": "48ba92eb4c29e487",
    "jupyter": {
     "outputs_hidden": false
    }
   },
   "source": [
    "Normalization (or scaling) is a technique used to standardize the range of independent variables or features of the data. Normalization can be beneficial in:\n",
    "\n",
    "1. Distance-Based Algorithms: Normalizing features ensures that all features contribute equally to the distance calculations.\n",
    "2. Gradient Descent Optimization:\n",
    "3. Regularization Techniques\n",
    "4. PCA (Principal Component Analysis): Normalization is essential because it is based on the variance of features.\n",
    "\n",
    "\n",
    "**PCA** - [link_to_the_site]('https://stats.stackexchange.com/questions/69157/why-do-we-need-to-normalize-data-before-principal-component-analysis-pca')\n",
    "\n",
    "\n",
    "However, there are situations where normalization might not be necessary or could even be detrimental:\n",
    "1. Tree-Based Models\n",
    "2. Interpretability"
   ]
  },
  {
   "cell_type": "markdown",
   "id": "JN_7eq9B0E9O",
   "metadata": {
    "id": "JN_7eq9B0E9O"
   },
   "source": [
    "### 2.2.1 Normalizing the columns of new_df and creating a new dataframe called normalized_df"
   ]
  },
  {
   "cell_type": "code",
   "execution_count": null,
   "id": "12faac790e6578d1",
   "metadata": {
    "ExecuteTime": {
     "end_time": "2023-12-17T09:57:45.311992200Z",
     "start_time": "2023-12-17T09:57:43.024449700Z"
    },
    "id": "12faac790e6578d1",
    "outputId": "35191f18-e786-4e41-e31b-5348555e4fa7"
   },
   "outputs": [
    {
     "data": {
      "text/html": [
       "<div>\n",
       "<style scoped>\n",
       "    .dataframe tbody tr th:only-of-type {\n",
       "        vertical-align: middle;\n",
       "    }\n",
       "\n",
       "    .dataframe tbody tr th {\n",
       "        vertical-align: top;\n",
       "    }\n",
       "\n",
       "    .dataframe thead th {\n",
       "        text-align: right;\n",
       "    }\n",
       "</style>\n",
       "<table border=\"1\" class=\"dataframe\">\n",
       "  <thead>\n",
       "    <tr style=\"text-align: right;\">\n",
       "      <th></th>\n",
       "      <th>user_id</th>\n",
       "      <th>fav_genre</th>\n",
       "      <th>avg_click_duration</th>\n",
       "      <th>time_of_day</th>\n",
       "      <th>preference</th>\n",
       "      <th>daily_avg_duration</th>\n",
       "      <th>total_duration</th>\n",
       "      <th>num_distinct_genres</th>\n",
       "      <th>fav_genre_duration</th>\n",
       "      <th>total_weekend_clicks</th>\n",
       "      <th>avg_clicks_per_day</th>\n",
       "      <th>num_clicks</th>\n",
       "      <th>is_old_movie_lover</th>\n",
       "      <th>old_movies_percentage</th>\n",
       "      <th>max_click_duration</th>\n",
       "    </tr>\n",
       "  </thead>\n",
       "  <tbody>\n",
       "    <tr>\n",
       "      <th>26331</th>\n",
       "      <td>8afcc433c0</td>\n",
       "      <td>Drama</td>\n",
       "      <td>0.001145</td>\n",
       "      <td>Night</td>\n",
       "      <td>Recent</td>\n",
       "      <td>0.001799</td>\n",
       "      <td>0.006817</td>\n",
       "      <td>0.409091</td>\n",
       "      <td>0.007033</td>\n",
       "      <td>0.000000</td>\n",
       "      <td>0.026786</td>\n",
       "      <td>0.013587</td>\n",
       "      <td>1.0</td>\n",
       "      <td>0.5</td>\n",
       "      <td>0.003478</td>\n",
       "    </tr>\n",
       "    <tr>\n",
       "      <th>26247</th>\n",
       "      <td>8a8f56cab8</td>\n",
       "      <td>Comedy</td>\n",
       "      <td>0.002614</td>\n",
       "      <td>Afternoon</td>\n",
       "      <td>Recent</td>\n",
       "      <td>0.004792</td>\n",
       "      <td>0.046699</td>\n",
       "      <td>0.772727</td>\n",
       "      <td>0.001622</td>\n",
       "      <td>0.021605</td>\n",
       "      <td>0.039062</td>\n",
       "      <td>0.043478</td>\n",
       "      <td>0.0</td>\n",
       "      <td>0.0</td>\n",
       "      <td>0.000000</td>\n",
       "    </tr>\n",
       "    <tr>\n",
       "      <th>2999</th>\n",
       "      <td>105856cf55</td>\n",
       "      <td>Documentary</td>\n",
       "      <td>0.000890</td>\n",
       "      <td>Night</td>\n",
       "      <td>Recent</td>\n",
       "      <td>0.002374</td>\n",
       "      <td>0.007713</td>\n",
       "      <td>0.454545</td>\n",
       "      <td>0.011106</td>\n",
       "      <td>0.015432</td>\n",
       "      <td>0.078125</td>\n",
       "      <td>0.020380</td>\n",
       "      <td>1.0</td>\n",
       "      <td>0.0</td>\n",
       "      <td>0.027962</td>\n",
       "    </tr>\n",
       "    <tr>\n",
       "      <th>29255</th>\n",
       "      <td>9a627ede04</td>\n",
       "      <td>Documentary</td>\n",
       "      <td>0.000000</td>\n",
       "      <td>Afternoon</td>\n",
       "      <td>Recent</td>\n",
       "      <td>0.000000</td>\n",
       "      <td>0.000000</td>\n",
       "      <td>0.000000</td>\n",
       "      <td>0.000000</td>\n",
       "      <td>0.003086</td>\n",
       "      <td>0.000000</td>\n",
       "      <td>0.001359</td>\n",
       "      <td>0.0</td>\n",
       "      <td>1.0</td>\n",
       "      <td>0.000000</td>\n",
       "    </tr>\n",
       "    <tr>\n",
       "      <th>42744</th>\n",
       "      <td>e14d9b2a4b</td>\n",
       "      <td>Drama</td>\n",
       "      <td>0.004765</td>\n",
       "      <td>Afternoon</td>\n",
       "      <td>Old</td>\n",
       "      <td>0.007147</td>\n",
       "      <td>0.007740</td>\n",
       "      <td>0.272727</td>\n",
       "      <td>0.006399</td>\n",
       "      <td>0.000000</td>\n",
       "      <td>0.023438</td>\n",
       "      <td>0.002717</td>\n",
       "      <td>1.0</td>\n",
       "      <td>1.0</td>\n",
       "      <td>0.006620</td>\n",
       "    </tr>\n",
       "  </tbody>\n",
       "</table>\n",
       "</div>"
      ],
      "text/plain": [
       "          user_id    fav_genre  avg_click_duration time_of_day preference  \\\n",
       "26331  8afcc433c0        Drama            0.001145       Night     Recent   \n",
       "26247  8a8f56cab8       Comedy            0.002614   Afternoon     Recent   \n",
       "2999   105856cf55  Documentary            0.000890       Night     Recent   \n",
       "29255  9a627ede04  Documentary            0.000000   Afternoon     Recent   \n",
       "42744  e14d9b2a4b        Drama            0.004765   Afternoon        Old   \n",
       "\n",
       "       daily_avg_duration  total_duration  num_distinct_genres  \\\n",
       "26331            0.001799        0.006817             0.409091   \n",
       "26247            0.004792        0.046699             0.772727   \n",
       "2999             0.002374        0.007713             0.454545   \n",
       "29255            0.000000        0.000000             0.000000   \n",
       "42744            0.007147        0.007740             0.272727   \n",
       "\n",
       "       fav_genre_duration  total_weekend_clicks  avg_clicks_per_day  \\\n",
       "26331            0.007033              0.000000            0.026786   \n",
       "26247            0.001622              0.021605            0.039062   \n",
       "2999             0.011106              0.015432            0.078125   \n",
       "29255            0.000000              0.003086            0.000000   \n",
       "42744            0.006399              0.000000            0.023438   \n",
       "\n",
       "       num_clicks  is_old_movie_lover  old_movies_percentage  \\\n",
       "26331    0.013587                 1.0                    0.5   \n",
       "26247    0.043478                 0.0                    0.0   \n",
       "2999     0.020380                 1.0                    0.0   \n",
       "29255    0.001359                 0.0                    1.0   \n",
       "42744    0.002717                 1.0                    1.0   \n",
       "\n",
       "       max_click_duration  \n",
       "26331            0.003478  \n",
       "26247            0.000000  \n",
       "2999             0.027962  \n",
       "29255            0.000000  \n",
       "42744            0.006620  "
      ]
     },
     "execution_count": 21,
     "metadata": {},
     "output_type": "execute_result"
    }
   ],
   "source": [
    "from sklearn.preprocessing import MinMaxScaler\n",
    "\n",
    "# Features to normalize\n",
    "features_to_normalize = ['avg_click_duration', 'daily_avg_duration', 'total_duration', 'num_distinct_genres', 'fav_genre_duration', 'total_weekend_clicks', 'avg_clicks_per_day', 'num_clicks', 'max_click_duration']\n",
    "normalized_df = new_df.copy()\n",
    "scaler = MinMaxScaler()\n",
    "\n",
    "# Fit and trasform the selected features in the normalized_df\n",
    "normalized_df[features_to_normalize] = scaler.fit_transform(normalized_df[features_to_normalize])\n",
    "\n",
    "normalized_df.sample(5)"
   ]
  },
  {
   "cell_type": "markdown",
   "id": "8e515a895041b8df",
   "metadata": {
    "collapsed": false,
    "id": "8e515a895041b8df",
    "jupyter": {
     "outputs_hidden": false
    }
   },
   "source": [
    "### 2.2.2 PCA"
   ]
  },
  {
   "cell_type": "markdown",
   "id": "MAcCGRvV0M1h",
   "metadata": {
    "id": "MAcCGRvV0M1h"
   },
   "source": [
    "Explanation:\n",
    "I chose PCA because it is a widely used method for dimensionality reduction, and it's suitable for continuous numerical features. It helps in capturing the most significant patterns of variance in the data and reducing the dimensionality while retaining as much information as possible.\n",
    "\n",
    "Limitations:\n",
    "\n",
    "Linearity: PCA assumes that the data is linear, and it might not perform well if the relationships between variables are non-linear.\n",
    "Orthogonality: PCA creates orthogonal principal components, which may not always capture complex patterns present in the data.\n",
    "Sensitive to Outliers: PCA is sensitive to outliers as it maximizes the variance, and outliers can have a significant impact on the results.\n",
    "It's essential to consider the nature of your data and the assumptions of the method when choosing dimensionality reduction techniques. Additionally, you may want to explore other methods like t-SNE or UMAP for non-linear data or when preserving local structures is important."
   ]
  },
  {
   "cell_type": "code",
   "execution_count": null,
   "id": "cb0633553ea6fb9d",
   "metadata": {
    "ExecuteTime": {
     "end_time": "2023-12-17T09:57:45.882001800Z",
     "start_time": "2023-12-17T09:57:45.313992200Z"
    },
    "id": "cb0633553ea6fb9d",
    "outputId": "72a223f5-fba1-468c-82c3-b7fc04efb7fd"
   },
   "outputs": [
    {
     "data": {
      "text/html": [
       "<div>\n",
       "<style scoped>\n",
       "    .dataframe tbody tr th:only-of-type {\n",
       "        vertical-align: middle;\n",
       "    }\n",
       "\n",
       "    .dataframe tbody tr th {\n",
       "        vertical-align: top;\n",
       "    }\n",
       "\n",
       "    .dataframe thead th {\n",
       "        text-align: right;\n",
       "    }\n",
       "</style>\n",
       "<table border=\"1\" class=\"dataframe\">\n",
       "  <thead>\n",
       "    <tr style=\"text-align: right;\">\n",
       "      <th></th>\n",
       "      <th>PC1</th>\n",
       "      <th>PC2</th>\n",
       "      <th>PC3</th>\n",
       "      <th>PC4</th>\n",
       "      <th>PC5</th>\n",
       "      <th>PC6</th>\n",
       "      <th>PC7</th>\n",
       "      <th>PC8</th>\n",
       "      <th>user_id</th>\n",
       "    </tr>\n",
       "  </thead>\n",
       "  <tbody>\n",
       "    <tr>\n",
       "      <th>0</th>\n",
       "      <td>-0.204513</td>\n",
       "      <td>0.003104</td>\n",
       "      <td>-0.008607</td>\n",
       "      <td>-0.005976</td>\n",
       "      <td>0.003559</td>\n",
       "      <td>-0.000172</td>\n",
       "      <td>-0.001625</td>\n",
       "      <td>0.002791</td>\n",
       "      <td>000118a755</td>\n",
       "    </tr>\n",
       "    <tr>\n",
       "      <th>1</th>\n",
       "      <td>0.338869</td>\n",
       "      <td>-0.049106</td>\n",
       "      <td>-0.020668</td>\n",
       "      <td>-0.005562</td>\n",
       "      <td>-0.004402</td>\n",
       "      <td>0.008107</td>\n",
       "      <td>0.007673</td>\n",
       "      <td>-0.003288</td>\n",
       "      <td>0006ea6b5c</td>\n",
       "    </tr>\n",
       "    <tr>\n",
       "      <th>2</th>\n",
       "      <td>-0.251453</td>\n",
       "      <td>-0.016564</td>\n",
       "      <td>-0.008341</td>\n",
       "      <td>-0.005834</td>\n",
       "      <td>0.008370</td>\n",
       "      <td>0.002035</td>\n",
       "      <td>-0.000231</td>\n",
       "      <td>0.000256</td>\n",
       "      <td>0007fc8621</td>\n",
       "    </tr>\n",
       "    <tr>\n",
       "      <th>3</th>\n",
       "      <td>-0.156889</td>\n",
       "      <td>0.023206</td>\n",
       "      <td>-0.001786</td>\n",
       "      <td>-0.005893</td>\n",
       "      <td>0.007896</td>\n",
       "      <td>0.001394</td>\n",
       "      <td>0.002794</td>\n",
       "      <td>-0.004816</td>\n",
       "      <td>000a3ec774</td>\n",
       "    </tr>\n",
       "    <tr>\n",
       "      <th>4</th>\n",
       "      <td>0.022997</td>\n",
       "      <td>-0.003052</td>\n",
       "      <td>-0.006070</td>\n",
       "      <td>-0.002716</td>\n",
       "      <td>-0.004437</td>\n",
       "      <td>-0.006165</td>\n",
       "      <td>-0.000781</td>\n",
       "      <td>0.004768</td>\n",
       "      <td>000b3fbc4e</td>\n",
       "    </tr>\n",
       "  </tbody>\n",
       "</table>\n",
       "</div>"
      ],
      "text/plain": [
       "        PC1       PC2       PC3       PC4       PC5       PC6       PC7  \\\n",
       "0 -0.204513  0.003104 -0.008607 -0.005976  0.003559 -0.000172 -0.001625   \n",
       "1  0.338869 -0.049106 -0.020668 -0.005562 -0.004402  0.008107  0.007673   \n",
       "2 -0.251453 -0.016564 -0.008341 -0.005834  0.008370  0.002035 -0.000231   \n",
       "3 -0.156889  0.023206 -0.001786 -0.005893  0.007896  0.001394  0.002794   \n",
       "4  0.022997 -0.003052 -0.006070 -0.002716 -0.004437 -0.006165 -0.000781   \n",
       "\n",
       "        PC8     user_id  \n",
       "0  0.002791  000118a755  \n",
       "1 -0.003288  0006ea6b5c  \n",
       "2  0.000256  0007fc8621  \n",
       "3 -0.004816  000a3ec774  \n",
       "4  0.004768  000b3fbc4e  "
      ]
     },
     "execution_count": 22,
     "metadata": {},
     "output_type": "execute_result"
    }
   ],
   "source": [
    "features_for_pca = ['avg_click_duration', 'daily_avg_duration', 'total_duration', 'num_distinct_genres', 'fav_genre_duration', 'total_weekend_clicks', 'avg_clicks_per_day', 'num_clicks', 'max_click_duration']\n",
    "pca_features = normalized_df[features_for_pca]\n",
    "\n",
    "# Instantiate PCA with the number of components (we choose 2 for illustration)\n",
    "n_components = 8\n",
    "pca = PCA(n_components=n_components)\n",
    "\n",
    "# Fit and transform the features\n",
    "pca_result = pca.fit_transform(pca_features)\n",
    "pca_df = pd.DataFrame(data=pca_result, columns=[f'PC{i+1}' for i in range(n_components)])\n",
    "pca_df['user_id'] = normalized_df['user_id']\n",
    "\n",
    "pca_df.head(5)"
   ]
  },
  {
   "cell_type": "markdown",
   "id": "8469947f7e7ca697",
   "metadata": {
    "collapsed": false,
    "id": "8469947f7e7ca697",
    "jupyter": {
     "outputs_hidden": false
    }
   },
   "source": [
    "#### Scree plot of our normalized dataframe."
   ]
  },
  {
   "cell_type": "code",
   "execution_count": null,
   "id": "b3ddfa6ba48a423a",
   "metadata": {
    "ExecuteTime": {
     "end_time": "2023-12-17T09:57:46.459247800Z",
     "start_time": "2023-12-17T09:57:45.883003600Z"
    },
    "id": "b3ddfa6ba48a423a",
    "outputId": "d5f2e2e7-9d85-48d3-d956-4eb49de99ae2"
   },
   "outputs": [
    {
     "data": {
      "image/png": "[encoded data removed]",
      "text/plain": [
       "<Figure size 1000x600 with 1 Axes>"
      ]
     },
     "metadata": {},
     "output_type": "display_data"
    }
   ],
   "source": [
    "cumulative_variance = np.cumsum(pca.explained_variance_ratio_) # cumulative explained variance\n",
    "plt.figure(figsize=(10, 6))\n",
    "\n",
    "plt.bar(range(1, n_components + 1), pca.explained_variance_ratio_ * 100, color='b', alpha=0.7, align='center', label='Individual Variance') # Individual explained variance\n",
    "\n",
    "for i, percentage in enumerate(pca.explained_variance_ratio_ * 100):\n",
    "    plt.text(i + 1, percentage + 0.5, f'{percentage:.2f}%', ha='center', va='bottom', fontsize=9)\n",
    "\n",
    "plt.title('Scree Plot - Explained Variance')\n",
    "plt.xlabel('Principal Components')\n",
    "plt.ylabel('Explained Variance (%)')\n",
    "plt.legend()\n",
    "plt.show()"
   ]
  },
  {
   "cell_type": "markdown",
   "id": "2937e172ecb8fc63",
   "metadata": {
    "collapsed": false,
    "id": "2937e172ecb8fc63",
    "jupyter": {
     "outputs_hidden": false
    }
   },
   "source": [
    "From the above Scree plot, we can see that PC1 & PC2 account for 96.16% of the total variation of the dataset. Hence, for clustering we can use these three Principal components to cluster or data."
   ]
  },
  {
   "cell_type": "code",
   "execution_count": null,
   "id": "bf8bcdb893973149",
   "metadata": {
    "ExecuteTime": {
     "end_time": "2023-12-17T09:58:03.011530400Z",
     "start_time": "2023-12-17T09:57:46.467349600Z"
    },
    "id": "bf8bcdb893973149",
    "outputId": "5ffdb621-3886-4aa6-bc91-4f6f58053e98"
   },
   "outputs": [
    {
     "name": "stderr",
     "output_type": "stream",
     "text": [
      "C:\\Users\\Syed Habibul Bashar\\anaconda3\\Lib\\site-packages\\sklearn\\cluster\\_kmeans.py:1412: FutureWarning: The default value of `n_init` will change from 10 to 'auto' in 1.4. Set the value of `n_init` explicitly to suppress the warning\n",
      "  super()._check_params_vs_input(X, default_n_init=10)\n",
      "C:\\Users\\Syed Habibul Bashar\\anaconda3\\Lib\\site-packages\\sklearn\\cluster\\_kmeans.py:1412: FutureWarning: The default value of `n_init` will change from 10 to 'auto' in 1.4. Set the value of `n_init` explicitly to suppress the warning\n",
      "  super()._check_params_vs_input(X, default_n_init=10)\n",
      "C:\\Users\\Syed Habibul Bashar\\anaconda3\\Lib\\site-packages\\sklearn\\cluster\\_kmeans.py:1412: FutureWarning: The default value of `n_init` will change from 10 to 'auto' in 1.4. Set the value of `n_init` explicitly to suppress the warning\n",
      "  super()._check_params_vs_input(X, default_n_init=10)\n",
      "C:\\Users\\Syed Habibul Bashar\\anaconda3\\Lib\\site-packages\\sklearn\\cluster\\_kmeans.py:1412: FutureWarning: The default value of `n_init` will change from 10 to 'auto' in 1.4. Set the value of `n_init` explicitly to suppress the warning\n",
      "  super()._check_params_vs_input(X, default_n_init=10)\n",
      "C:\\Users\\Syed Habibul Bashar\\anaconda3\\Lib\\site-packages\\sklearn\\cluster\\_kmeans.py:1412: FutureWarning: The default value of `n_init` will change from 10 to 'auto' in 1.4. Set the value of `n_init` explicitly to suppress the warning\n",
      "  super()._check_params_vs_input(X, default_n_init=10)\n",
      "C:\\Users\\Syed Habibul Bashar\\anaconda3\\Lib\\site-packages\\sklearn\\cluster\\_kmeans.py:1412: FutureWarning: The default value of `n_init` will change from 10 to 'auto' in 1.4. Set the value of `n_init` explicitly to suppress the warning\n",
      "  super()._check_params_vs_input(X, default_n_init=10)\n",
      "C:\\Users\\Syed Habibul Bashar\\anaconda3\\Lib\\site-packages\\sklearn\\cluster\\_kmeans.py:1412: FutureWarning: The default value of `n_init` will change from 10 to 'auto' in 1.4. Set the value of `n_init` explicitly to suppress the warning\n",
      "  super()._check_params_vs_input(X, default_n_init=10)\n",
      "C:\\Users\\Syed Habibul Bashar\\anaconda3\\Lib\\site-packages\\sklearn\\cluster\\_kmeans.py:1412: FutureWarning: The default value of `n_init` will change from 10 to 'auto' in 1.4. Set the value of `n_init` explicitly to suppress the warning\n",
      "  super()._check_params_vs_input(X, default_n_init=10)\n",
      "C:\\Users\\Syed Habibul Bashar\\anaconda3\\Lib\\site-packages\\sklearn\\cluster\\_kmeans.py:1412: FutureWarning: The default value of `n_init` will change from 10 to 'auto' in 1.4. Set the value of `n_init` explicitly to suppress the warning\n",
      "  super()._check_params_vs_input(X, default_n_init=10)\n",
      "C:\\Users\\Syed Habibul Bashar\\anaconda3\\Lib\\site-packages\\sklearn\\cluster\\_kmeans.py:1412: FutureWarning: The default value of `n_init` will change from 10 to 'auto' in 1.4. Set the value of `n_init` explicitly to suppress the warning\n",
      "  super()._check_params_vs_input(X, default_n_init=10)\n"
     ]
    },
    {
     "data": {
      "image/png": "[encoded data removed]",
      "text/plain": [
       "<Figure size 800x600 with 1 Axes>"
      ]
     },
     "metadata": {},
     "output_type": "display_data"
    }
   ],
   "source": [
    "# Extract PC1 and PC2\n",
    "pc_columns = ['PC1', 'PC2']\n",
    "pc_data = pca_df[pc_columns]\n",
    "\n",
    "# Deciding the range of clusters\n",
    "num_clusters_range = range(1, 11)\n",
    "\n",
    "wcss = [] # Within-cluster sum of squares\n",
    "for num_clusters in num_clusters_range:\n",
    "    kmeans = KMeans(n_clusters=num_clusters, random_state=42)\n",
    "    kmeans.fit(pc_data)\n",
    "    wcss.append(kmeans.inertia_)\n",
    "\n",
    "# Find the elbow point using KneeLocator\n",
    "knee_locator = KneeLocator(num_clusters_range, wcss, curve='convex', direction='decreasing')\n",
    "optimal_cluster_size = knee_locator.elbow\n",
    "\n",
    "# Plot the elbow plot with highlighted optimum cluster size\n",
    "plt.figure(figsize=(8, 6))\n",
    "plt.plot(num_clusters_range, wcss, marker='o')\n",
    "plt.title('Elbow Method for Optimal Number of Clusters')\n",
    "plt.xlabel('Number of Clusters')\n",
    "plt.ylabel('Within-Cluster Sum of Squares (WCSS)')\n",
    "\n",
    "# Highlight the optimum cluster size\n",
    "plt.axvline(x=optimal_cluster_size, color='red', linestyle='--', label=f'Optimal Clusters: {optimal_cluster_size}')\n",
    "plt.legend()\n",
    "\n",
    "plt.show()"
   ]
  },
  {
   "cell_type": "markdown",
   "id": "5917ad216563e1f7",
   "metadata": {
    "collapsed": false,
    "id": "5917ad216563e1f7",
    "jupyter": {
     "outputs_hidden": false
    }
   },
   "source": [
    "## 2.3 Clustering!\n"
   ]
  },
  {
   "cell_type": "markdown",
   "id": "oBNUpWY90Zsk",
   "metadata": {
    "id": "oBNUpWY90Zsk"
   },
   "source": [
    "To implement the kmeans algorithm we will be using the reduced dimensional values PCA1 & PCA2. Firstly, we initialize the centroids randomly. The centroids are then assigned clusters based on the distance of the data points respective of the centroids. With each iteration of kmeans we update the centroid to become more centralized meaning to reduce the means distances from the centroid to the data points until it can't be reduced anymore."
   ]
  },
  {
   "cell_type": "code",
   "execution_count": null,
   "id": "4ea2a255b6120e1e",
   "metadata": {
    "ExecuteTime": {
     "end_time": "2023-12-17T09:58:03.029880300Z",
     "start_time": "2023-12-17T09:58:03.018951800Z"
    },
    "id": "4ea2a255b6120e1e"
   },
   "outputs": [],
   "source": [
    "data = pca_df[['PC1', 'PC2']].values.astype(float)\n",
    "\n",
    "def initialize_centroids(data, k):\n",
    "    indices = np.random.choice(len(data), k, replace=False)\n",
    "    return data[indices]\n",
    "\n",
    "def assign_clusters(data, centroids):\n",
    "    distances = np.linalg.norm(data[:, np.newaxis, :] - centroids, axis=2)\n",
    "    return np.argmin(distances, axis=1)\n",
    "\n",
    "def update_centroids(data, clusters, k):\n",
    "    centroids = np.zeros((k, data.shape[1]))\n",
    "    for i in range(k):\n",
    "        centroids[i] = np.mean(data[clusters == i], axis=0)\n",
    "    return centroids\n",
    "\n",
    "def kmeans(data, k, max_iters=100):\n",
    "    centroids = initialize_centroids(data, k)\n",
    "\n",
    "    for _ in range(max_iters):\n",
    "        clusters = assign_clusters(data, centroids)\n",
    "        new_centroids = update_centroids(data, clusters, k)\n",
    "\n",
    "        # Check for convergence\n",
    "        if np.all(centroids == new_centroids):\n",
    "            break\n",
    "\n",
    "        centroids = new_centroids\n",
    "\n",
    "    return clusters, centroids\n",
    "\n",
    "def calculate_sse(data, clusters, centroids):\n",
    "    sse = 0\n",
    "    for i in range(len(centroids)):\n",
    "        cluster_points = data[clusters == i]\n",
    "        sse += np.sum((cluster_points - centroids[i])**2)\n",
    "    return sse"
   ]
  },
  {
   "cell_type": "markdown",
   "id": "2bf0d976d99723c7",
   "metadata": {
    "collapsed": false,
    "id": "2bf0d976d99723c7",
    "jupyter": {
     "outputs_hidden": false
    }
   },
   "source": [
    "Using the elbow method to find the optimal value of 'K'. The optimal value here is 3."
   ]
  },
  {
   "cell_type": "code",
   "execution_count": null,
   "id": "a2a81dfce9966c4f",
   "metadata": {
    "ExecuteTime": {
     "end_time": "2023-12-17T09:58:04.926379700Z",
     "start_time": "2023-12-17T09:58:03.033987Z"
    },
    "id": "a2a81dfce9966c4f",
    "outputId": "a27b7a61-e177-4f7e-e08c-976b35fff1da"
   },
   "outputs": [
    {
     "data": {
      "image/png": "[encoded data removed]",
      "text/plain": [
       "<Figure size 640x480 with 1 Axes>"
      ]
     },
     "metadata": {},
     "output_type": "display_data"
    }
   ],
   "source": [
    "# Function to determine optimal k using sum of squared distances\n",
    "def find_optimal_k(data, max_k):\n",
    "    sse_values = []\n",
    "    for k in range(1, max_k + 1):\n",
    "        clusters, centroids = kmeans(data, k)\n",
    "        sse = calculate_sse(data, clusters, centroids)\n",
    "        sse_values.append(sse)\n",
    "\n",
    "    x = np.arange(1, max_k + 1)\n",
    "    plt.plot(x, sse_values, marker='o')\n",
    "    plt.xlabel('Number of Clusters (k)')\n",
    "    plt.ylabel('Sum of Squared Distances')\n",
    "    plt.title('Elbow Method for Optimal k')\n",
    "    plt.show()\n",
    "\n",
    "max_k_value = 10\n",
    "find_optimal_k(data, max_k_value)"
   ]
  },
  {
   "cell_type": "markdown",
   "id": "bbc3fe89d4d830bd",
   "metadata": {
    "collapsed": false,
    "id": "bbc3fe89d4d830bd",
    "jupyter": {
     "outputs_hidden": false
    }
   },
   "source": [
    "Another method of find the optimal k is the silhouette method. Here the highest value of k is considered optimal. We can see 2 is the highest value, but it is too low, so the next best choice would be 5."
   ]
  },
  {
   "cell_type": "code",
   "execution_count": null,
   "id": "e9ff337656ccdb43",
   "metadata": {
    "ExecuteTime": {
     "end_time": "2023-12-17T10:03:10.644813800Z",
     "start_time": "2023-12-17T09:58:04.931465Z"
    },
    "id": "e9ff337656ccdb43",
    "outputId": "1c00d462-d139-4109-dcef-ebd642f8d3a7"
   },
   "outputs": [
    {
     "data": {
      "image/png": "[encoded data removed]",
      "text/plain": [
       "<Figure size 640x480 with 1 Axes>"
      ]
     },
     "metadata": {},
     "output_type": "display_data"
    }
   ],
   "source": [
    "def calculate_silhouette_score(data, clusters):\n",
    "    return silhouette_score(data, clusters)\n",
    "\n",
    "# Function to determine optimal k using silhouette score\n",
    "def find_optimal_k_silhouette(data, max_k):\n",
    "    silhouette_scores = []\n",
    "    for k in range(2, max_k + 1):\n",
    "        clusters, _ = kmeans(data, k)\n",
    "        silhouette = calculate_silhouette_score(data, clusters)\n",
    "        silhouette_scores.append(silhouette)\n",
    "\n",
    "    x = np.arange(2, max_k + 1)\n",
    "    plt.plot(x, silhouette_scores, marker='o')\n",
    "    plt.xlabel('Number of Clusters (k)')\n",
    "    plt.ylabel('Silhouette Score')\n",
    "    plt.title('Silhouette Method for Optimal k')\n",
    "    plt.show()\n",
    "\n",
    "max_k_value = 10\n",
    "find_optimal_k_silhouette(data, max_k_value)"
   ]
  },
  {
   "cell_type": "markdown",
   "id": "ae6867ccf9ce0f4e",
   "metadata": {
    "collapsed": false,
    "id": "ae6867ccf9ce0f4e",
    "jupyter": {
     "outputs_hidden": false
    }
   },
   "source": [
    "Visual representation of our data clusters using k=5."
   ]
  },
  {
   "cell_type": "code",
   "execution_count": null,
   "id": "ae65ba9dcba4ab3b",
   "metadata": {
    "ExecuteTime": {
     "end_time": "2023-12-17T10:03:12.189877400Z",
     "start_time": "2023-12-17T10:03:10.659653Z"
    },
    "id": "ae65ba9dcba4ab3b",
    "outputId": "899759d6-7e38-41e0-8672-edcad44266c7"
   },
   "outputs": [
    {
     "data": {
      "image/png": "[encoded data removed]",
      "text/plain": [
       "<Figure size 640x480 with 1 Axes>"
      ]
     },
     "metadata": {},
     "output_type": "display_data"
    }
   ],
   "source": [
    "# Function to plot the clustering result\n",
    "def plot_clusters(data, clusters, centroids):\n",
    "    plt.scatter(data[:, 0], data[:, 1], c=clusters, cmap='viridis', alpha=0.7)\n",
    "    plt.scatter(centroids[:, 0], centroids[:, 1], c='red', marker='X', s=200, label='Centroids')\n",
    "    plt.title('K-Means Clustering')\n",
    "    plt.xlabel('PC1')\n",
    "    plt.ylabel('PC2')\n",
    "    plt.legend()\n",
    "    plt.show()\n",
    "    # Example usage\n",
    "k = 5\n",
    "clusters, centroids = kmeans(data, k)\n",
    "plot_clusters(data, clusters, centroids)"
   ]
  },
  {
   "cell_type": "markdown",
   "id": "790703b2d3892d55",
   "metadata": {
    "collapsed": false,
    "id": "790703b2d3892d55",
    "jupyter": {
     "outputs_hidden": false
    }
   },
   "source": [
    "In the KMeans++ method, the first centroid is only initialized randomly,then rest of the centroids are spead out the dataset. This helps to get convergence faster. The main difference between standard and KMeans++ is execution time."
   ]
  },
  {
   "cell_type": "code",
   "execution_count": null,
   "id": "daab42ac3f9b08e7",
   "metadata": {
    "ExecuteTime": {
     "end_time": "2023-12-17T10:03:12.202745100Z",
     "start_time": "2023-12-17T10:03:12.189877400Z"
    },
    "id": "daab42ac3f9b08e7"
   },
   "outputs": [],
   "source": [
    "def kmeans_plusplus_initialize(data, k):\n",
    "    centroids = [data[np.random.choice(len(data))]]\n",
    "\n",
    "    for _ in range(1, k):\n",
    "        distances = np.min(np.linalg.norm(data[:, np.newaxis, :] - centroids, axis=2), axis=1)\n",
    "        probabilities = distances / np.sum(distances)\n",
    "        chosen_index = np.random.choice(len(data), p=probabilities)\n",
    "        centroids.append(data[chosen_index])\n",
    "\n",
    "    return np.array(centroids)\n",
    "\n",
    "\n",
    "\n",
    "def kmeans_plus(data, k, max_iters=100):\n",
    "    centroids = kmeans_plusplus_initialize(data, k)\n",
    "\n",
    "    for _ in range(max_iters):\n",
    "        clusters = assign_clusters(data, centroids)\n",
    "        new_centroids = update_centroids(data, clusters, k)\n",
    "\n",
    "        # Check for convergence\n",
    "        if np.all(centroids == new_centroids):\n",
    "            break\n",
    "\n",
    "        centroids = new_centroids\n",
    "\n",
    "    return clusters, centroids\n"
   ]
  },
  {
   "cell_type": "markdown",
   "id": "d6dab4635df92872",
   "metadata": {
    "collapsed": false,
    "id": "d6dab4635df92872",
    "jupyter": {
     "outputs_hidden": false
    }
   },
   "source": [
    "Elbow plot for the optimal k of KMeans++. here it is 3."
   ]
  },
  {
   "cell_type": "code",
   "execution_count": null,
   "id": "737ed94a254d6211",
   "metadata": {
    "ExecuteTime": {
     "end_time": "2023-12-17T10:03:14.595232700Z",
     "start_time": "2023-12-17T10:03:12.202745100Z"
    },
    "id": "737ed94a254d6211",
    "outputId": "267f3a90-8a0c-431b-9cb8-b52e40053164"
   },
   "outputs": [
    {
     "data": {
      "image/png": "[encoded data removed]",
      "text/plain": [
       "<Figure size 640x480 with 1 Axes>"
      ]
     },
     "metadata": {},
     "output_type": "display_data"
    }
   ],
   "source": [
    "#Elbow plus\n",
    "# Function to determine optimal k using sum of squared distances\n",
    "def find_optimal_k_plus(data, max_k):\n",
    "    sse_values = []\n",
    "    for k in range(1, max_k + 1):\n",
    "        clusters, centroids = kmeans_plus(data, k)\n",
    "        sse = calculate_sse(data, clusters, centroids)\n",
    "        sse_values.append(sse)\n",
    "\n",
    "    x = np.arange(1, max_k + 1)\n",
    "    plt.plot(x, sse_values, marker='o')\n",
    "    plt.xlabel('Number of Clusters (k)')\n",
    "    plt.ylabel('Sum of Squared Distances')\n",
    "    plt.title('Elbow Method for Optimal k (k-means++)')\n",
    "    plt.show()\n",
    "\n",
    "# Example usage\n",
    "max_k_value = 10\n",
    "find_optimal_k_plus(data, max_k_value)"
   ]
  },
  {
   "cell_type": "markdown",
   "id": "5235e3085faca2f6",
   "metadata": {
    "collapsed": false,
    "id": "5235e3085faca2f6",
    "jupyter": {
     "outputs_hidden": false
    }
   },
   "source": [
    "With KMeans++ the silhouette method suggests best k=2. Again it is too low for us. So we take a look a the next best k =5."
   ]
  },
  {
   "cell_type": "code",
   "execution_count": null,
   "id": "f0e1b97ba5555d22",
   "metadata": {
    "ExecuteTime": {
     "end_time": "2023-12-17T10:07:20.627338600Z",
     "start_time": "2023-12-17T10:03:14.595232700Z"
    },
    "id": "f0e1b97ba5555d22",
    "outputId": "07e21363-afbd-47d1-e290-841f94d817ef"
   },
   "outputs": [
    {
     "data": {
      "image/png": "[encoded data removed]",
      "text/plain": [
       "<Figure size 640x480 with 1 Axes>"
      ]
     },
     "metadata": {},
     "output_type": "display_data"
    }
   ],
   "source": [
    "# Function to determine optimal k using silhouette score\n",
    "def find_optimal_k_silhouette_plus(data, max_k):\n",
    "    silhouette_scores = []\n",
    "    for k in range(2, max_k + 1):\n",
    "        clusters, _ = kmeans_plus(data, k)\n",
    "        silhouette = calculate_silhouette_score(data, clusters)\n",
    "        silhouette_scores.append(silhouette)\n",
    "\n",
    "    x = np.arange(2, max_k + 1)\n",
    "    plt.plot(x, silhouette_scores, marker='o')\n",
    "    plt.xlabel('Number of Clusters (k)')\n",
    "    plt.ylabel('Silhouette Score')\n",
    "    plt.title('Silhouette Method for Optimal k (k-means++)')\n",
    "    plt.show()\n",
    "\n",
    "max_k_value = 10\n",
    "find_optimal_k_silhouette_plus(data, max_k_value)"
   ]
  },
  {
   "cell_type": "markdown",
   "id": "cdd7965f583b6b2d",
   "metadata": {
    "collapsed": false,
    "id": "cdd7965f583b6b2d",
    "jupyter": {
     "outputs_hidden": false
    }
   },
   "source": [
    "Trying k=3 and visualizing the results. (for comparison)"
   ]
  },
  {
   "cell_type": "code",
   "execution_count": null,
   "id": "3964b976b241a50f",
   "metadata": {
    "ExecuteTime": {
     "end_time": "2023-12-17T10:07:21.998877500Z",
     "start_time": "2023-12-17T10:07:20.634365200Z"
    },
    "id": "3964b976b241a50f",
    "outputId": "f76c51a7-2ad3-4fbd-a9ae-7d9f36dd9e99"
   },
   "outputs": [
    {
     "data": {
      "image/png": "[encoded data removed]",
      "text/plain": [
       "<Figure size 640x480 with 1 Axes>"
      ]
     },
     "metadata": {},
     "output_type": "display_data"
    }
   ],
   "source": [
    "# Function to plot the clustering result\n",
    "def plot_clusters(data, clusters, centroids):\n",
    "    plt.scatter(data[:, 0], data[:, 1], c=clusters, cmap='viridis', alpha=0.7)\n",
    "    plt.scatter(centroids[:, 0], centroids[:, 1], c='red', marker='X', s=200, label='Centroids')\n",
    "    plt.title('K-Means++ Clustering')\n",
    "    plt.xlabel('PC1')\n",
    "    plt.ylabel('PC2')\n",
    "    plt.legend()\n",
    "    plt.show()\n",
    "    # Example usage\n",
    "k = 3\n",
    "clusters, centroids = kmeans_plus(data, k)\n",
    "plot_clusters(data, clusters, centroids)"
   ]
  },
  {
   "cell_type": "markdown",
   "id": "d4f972317e19cc2d",
   "metadata": {
    "collapsed": false,
    "id": "d4f972317e19cc2d",
    "jupyter": {
     "outputs_hidden": false
    }
   },
   "source": [
    "Asked ChatGPT to implement a different clustering algorithm to our dataset. it chose DBSCAN. Here the clustering mainly consists of all the centalized data in a clustera dn the outliers in a different cluster. it goes in line with the silhouette methods recommendation of k=2."
   ]
  },
  {
   "cell_type": "code",
   "execution_count": null,
   "id": "f075004399ee1202",
   "metadata": {
    "ExecuteTime": {
     "end_time": "2023-12-17T10:07:30.921617Z",
     "start_time": "2023-12-17T10:07:22.004883900Z"
    },
    "id": "f075004399ee1202",
    "outputId": "8fa1f6de-84c8-4656-9b95-2bcb0e57c7c3"
   },
   "outputs": [
    {
     "data": {
      "image/png": "[encoded data removed]",
      "text/plain": [
       "<Figure size 640x480 with 1 Axes>"
      ]
     },
     "metadata": {},
     "output_type": "display_data"
    }
   ],
   "source": [
    "# Apply DBSCAN\n",
    "dbscan = DBSCAN(eps=0.05, min_samples=5)\n",
    "clusters = dbscan.fit_predict(data)\n",
    "\n",
    "# Visualize the clustering result\n",
    "plt.scatter(data[:, 0], data[:, 1], c=clusters, cmap='coolwarm', alpha=0.7)\n",
    "plt.title('DBSCAN Clustering')\n",
    "plt.xlabel('PC1')\n",
    "plt.ylabel('PC2')\n",
    "plt.show()"
   ]
  },
  {
   "cell_type": "markdown",
   "id": "6b0ddce4df56b2ae",
   "metadata": {
    "collapsed": false,
    "id": "6b0ddce4df56b2ae",
    "jupyter": {
     "outputs_hidden": false
    }
   },
   "source": [
    "## 2.4 Analysing your results! --\n",
    "First we use kmeans to create 4 clusters of our entire user base. append a column called cluster which indicates witch cluster that user falls under."
   ]
  },
  {
   "cell_type": "code",
   "execution_count": null,
   "id": "42ffde3a5b40afaa",
   "metadata": {
    "ExecuteTime": {
     "end_time": "2023-12-17T13:09:52.671824300Z",
     "start_time": "2023-12-17T13:09:52.515159Z"
    },
    "id": "42ffde3a5b40afaa",
    "outputId": "2dcf36ae-30c2-441f-8392-79ffa1b1e1ad"
   },
   "outputs": [
    {
     "data": {
      "text/html": [
       "<div>\n",
       "<style scoped>\n",
       "    .dataframe tbody tr th:only-of-type {\n",
       "        vertical-align: middle;\n",
       "    }\n",
       "\n",
       "    .dataframe tbody tr th {\n",
       "        vertical-align: top;\n",
       "    }\n",
       "\n",
       "    .dataframe thead th {\n",
       "        text-align: right;\n",
       "    }\n",
       "</style>\n",
       "<table border=\"1\" class=\"dataframe\">\n",
       "  <thead>\n",
       "    <tr style=\"text-align: right;\">\n",
       "      <th></th>\n",
       "      <th>user_id</th>\n",
       "      <th>fav_genre</th>\n",
       "      <th>avg_click_duration</th>\n",
       "      <th>time_of_day</th>\n",
       "      <th>preference</th>\n",
       "      <th>daily_avg_duration</th>\n",
       "      <th>total_duration</th>\n",
       "      <th>num_distinct_genres</th>\n",
       "      <th>fav_genre_duration</th>\n",
       "      <th>total_weekend_clicks</th>\n",
       "      <th>avg_clicks_per_day</th>\n",
       "      <th>num_clicks</th>\n",
       "      <th>is_old_movie_lover</th>\n",
       "      <th>old_movies_percentage</th>\n",
       "      <th>max_click_duration</th>\n",
       "      <th>cluster</th>\n",
       "      <th>avg_click_duration_category</th>\n",
       "    </tr>\n",
       "  </thead>\n",
       "  <tbody>\n",
       "    <tr>\n",
       "      <th>0</th>\n",
       "      <td>000118a755</td>\n",
       "      <td>Horror</td>\n",
       "      <td>0.000000</td>\n",
       "      <td>Afternoon</td>\n",
       "      <td>Old</td>\n",
       "      <td>0.000000</td>\n",
       "      <td>0.0</td>\n",
       "      <td>2</td>\n",
       "      <td>0.0</td>\n",
       "      <td>0</td>\n",
       "      <td>1.50</td>\n",
       "      <td>3</td>\n",
       "      <td>1.0</td>\n",
       "      <td>1.000000</td>\n",
       "      <td>0.0</td>\n",
       "      <td>2</td>\n",
       "      <td>Very Low</td>\n",
       "    </tr>\n",
       "    <tr>\n",
       "      <th>1</th>\n",
       "      <td>0006ea6b5c</td>\n",
       "      <td>Comedy</td>\n",
       "      <td>1120.866667</td>\n",
       "      <td>Night</td>\n",
       "      <td>Recent</td>\n",
       "      <td>1401.083333</td>\n",
       "      <td>16813.0</td>\n",
       "      <td>14</td>\n",
       "      <td>0.0</td>\n",
       "      <td>7</td>\n",
       "      <td>1.25</td>\n",
       "      <td>15</td>\n",
       "      <td>0.0</td>\n",
       "      <td>0.375000</td>\n",
       "      <td>7857.0</td>\n",
       "      <td>0</td>\n",
       "      <td>Low</td>\n",
       "    </tr>\n",
       "    <tr>\n",
       "      <th>2</th>\n",
       "      <td>0007fc8621</td>\n",
       "      <td>Documentary</td>\n",
       "      <td>0.000000</td>\n",
       "      <td>Afternoon</td>\n",
       "      <td>Recent</td>\n",
       "      <td>0.000000</td>\n",
       "      <td>0.0</td>\n",
       "      <td>1</td>\n",
       "      <td>0.0</td>\n",
       "      <td>1</td>\n",
       "      <td>1.00</td>\n",
       "      <td>2</td>\n",
       "      <td>0.0</td>\n",
       "      <td>0.000000</td>\n",
       "      <td>0.0</td>\n",
       "      <td>2</td>\n",
       "      <td>Very Low</td>\n",
       "    </tr>\n",
       "    <tr>\n",
       "      <th>3</th>\n",
       "      <td>000a3ec774</td>\n",
       "      <td>Comedy</td>\n",
       "      <td>25018.750000</td>\n",
       "      <td>Night</td>\n",
       "      <td>Recent</td>\n",
       "      <td>50037.500000</td>\n",
       "      <td>100075.0</td>\n",
       "      <td>3</td>\n",
       "      <td>14379.0</td>\n",
       "      <td>4</td>\n",
       "      <td>2.00</td>\n",
       "      <td>4</td>\n",
       "      <td>0.0</td>\n",
       "      <td>0.333333</td>\n",
       "      <td>0.0</td>\n",
       "      <td>3</td>\n",
       "      <td>Medium</td>\n",
       "    </tr>\n",
       "    <tr>\n",
       "      <th>4</th>\n",
       "      <td>000b3fbc4e</td>\n",
       "      <td>Adventure</td>\n",
       "      <td>25155.714286</td>\n",
       "      <td>Afternoon</td>\n",
       "      <td>Old</td>\n",
       "      <td>44022.500000</td>\n",
       "      <td>176090.0</td>\n",
       "      <td>7</td>\n",
       "      <td>0.0</td>\n",
       "      <td>0</td>\n",
       "      <td>1.75</td>\n",
       "      <td>7</td>\n",
       "      <td>1.0</td>\n",
       "      <td>0.000000</td>\n",
       "      <td>62860.0</td>\n",
       "      <td>1</td>\n",
       "      <td>Medium</td>\n",
       "    </tr>\n",
       "  </tbody>\n",
       "</table>\n",
       "</div>"
      ],
      "text/plain": [
       "      user_id    fav_genre  avg_click_duration time_of_day preference  \\\n",
       "0  000118a755       Horror            0.000000   Afternoon        Old   \n",
       "1  0006ea6b5c       Comedy         1120.866667       Night     Recent   \n",
       "2  0007fc8621  Documentary            0.000000   Afternoon     Recent   \n",
       "3  000a3ec774       Comedy        25018.750000       Night     Recent   \n",
       "4  000b3fbc4e    Adventure        25155.714286   Afternoon        Old   \n",
       "\n",
       "   daily_avg_duration  total_duration  num_distinct_genres  \\\n",
       "0            0.000000             0.0                    2   \n",
       "1         1401.083333         16813.0                   14   \n",
       "2            0.000000             0.0                    1   \n",
       "3        50037.500000        100075.0                    3   \n",
       "4        44022.500000        176090.0                    7   \n",
       "\n",
       "   fav_genre_duration  total_weekend_clicks  avg_clicks_per_day  num_clicks  \\\n",
       "0                 0.0                     0                1.50           3   \n",
       "1                 0.0                     7                1.25          15   \n",
       "2                 0.0                     1                1.00           2   \n",
       "3             14379.0                     4                2.00           4   \n",
       "4                 0.0                     0                1.75           7   \n",
       "\n",
       "   is_old_movie_lover  old_movies_percentage  max_click_duration  cluster  \\\n",
       "0                 1.0               1.000000                 0.0        2   \n",
       "1                 0.0               0.375000              7857.0        0   \n",
       "2                 0.0               0.000000                 0.0        2   \n",
       "3                 0.0               0.333333                 0.0        3   \n",
       "4                 1.0               0.000000             62860.0        1   \n",
       "\n",
       "  avg_click_duration_category  \n",
       "0                    Very Low  \n",
       "1                         Low  \n",
       "2                    Very Low  \n",
       "3                      Medium  \n",
       "4                      Medium  "
      ]
     },
     "execution_count": 99,
     "metadata": {},
     "output_type": "execute_result"
    }
   ],
   "source": [
    "k = 4\n",
    "clusters, centroids = kmeans(data, k)\n",
    "new_df['cluster'] = clusters\n",
    "new_df.head(5)"
   ]
  },
  {
   "cell_type": "markdown",
   "id": "3e37e288656afcbe",
   "metadata": {
    "collapsed": false,
    "id": "3e37e288656afcbe",
    "jupyter": {
     "outputs_hidden": false
    }
   },
   "source": [
    "Pivot table for the time_of_day column. From the table it can be deduced that night is the most favorite time of most users while mornings are the least. Cluster 0 and 3 are more similar to each other and the same goes for 1 and 2."
   ]
  },
  {
   "cell_type": "code",
   "execution_count": null,
   "id": "caf83dbb3a13e91c",
   "metadata": {
    "ExecuteTime": {
     "end_time": "2023-12-17T12:07:50.729111800Z",
     "start_time": "2023-12-17T12:07:50.533305500Z"
    },
    "id": "caf83dbb3a13e91c",
    "outputId": "a9274ce0-e7c4-4aeb-f465-4d6b4125b94a"
   },
   "outputs": [
    {
     "name": "stdout",
     "output_type": "stream",
     "text": [
      "Pivot table for time_of_day:\n",
      " time_of_day  Afternoon    Morning      Night\n",
      "cluster                                     \n",
      "0            31.102774  11.324376  57.572849\n",
      "1            59.082298   8.496457  32.421245\n",
      "2            24.729216   9.565340  65.705444\n",
      "3            40.477707  11.000000  48.522293\n"
     ]
    }
   ],
   "source": [
    "# Create a pivot table for the 'time_of_day' column\n",
    "pivot_time_of_day = pd.pivot_table(new_df, values='user_id', index='cluster', columns='time_of_day', aggfunc='count', fill_value=0)\n",
    "\n",
    "pivot_time_of_day_percentage = pivot_time_of_day.div(pivot_time_of_day.sum(axis=1), axis=0) * 100 # Percentage\n",
    "print(\"Pivot table for time_of_day:\\n\", pivot_time_of_day_percentage)\n"
   ]
  },
  {
   "cell_type": "markdown",
   "id": "e6ac962b58006fe0",
   "metadata": {
    "collapsed": false,
    "id": "e6ac962b58006fe0",
    "jupyter": {
     "outputs_hidden": false
    }
   },
   "source": [
    "Pivot table for the is_old_movie_lover column. Here it is clear that the clustering has even distribution of old movie watches. it is also clear that 3/4th of total users only watch recent movies."
   ]
  },
  {
   "cell_type": "code",
   "execution_count": null,
   "id": "ecc926f9b91c6669",
   "metadata": {
    "ExecuteTime": {
     "end_time": "2023-12-17T12:14:40.593956300Z",
     "start_time": "2023-12-17T12:14:40.264463700Z"
    },
    "id": "ecc926f9b91c6669",
    "outputId": "78f90a36-e3f8-443f-d7d0-6f63726f6dcc"
   },
   "outputs": [
    {
     "name": "stdout",
     "output_type": "stream",
     "text": [
      "Pivot table for avg_click_duration (percentage):\n",
      " is_old_movie_lover        0.0        1.0\n",
      "cluster                                 \n",
      "0                   75.339407  24.660593\n",
      "1                   75.692749  24.307251\n",
      "2                   75.658937  24.341063\n",
      "3                   75.035962  24.964038\n"
     ]
    }
   ],
   "source": [
    "pivot_avg_click_duration = pd.pivot_table(new_df, values='user_id', index='cluster', columns='is_old_movie_lover', aggfunc='count', fill_value=0)\n",
    "\n",
    "pivot_avg_click_duration_percentage = pivot_avg_click_duration.div(pivot_avg_click_duration.sum(axis=1), axis=0) * 100 # Percentage\n",
    "print(\"Pivot table for avg_click_duration (percentage):\\n\", pivot_avg_click_duration_percentage)"
   ]
  },
  {
   "cell_type": "markdown",
   "id": "48e6a19ff3bc69a6",
   "metadata": {
    "collapsed": false,
    "id": "48e6a19ff3bc69a6",
    "jupyter": {
     "outputs_hidden": false
    }
   },
   "source": [
    "This Pivot table is for the average click duration. The durations are categorized into four using the values of the column (using chatGPT). It shows that all four clusters are very different to one another based on this criteria."
   ]
  },
  {
   "cell_type": "code",
   "execution_count": null,
   "id": "e078b4fe5586a717",
   "metadata": {
    "ExecuteTime": {
     "end_time": "2023-12-17T12:21:12.124685Z",
     "start_time": "2023-12-17T12:21:11.830497700Z"
    },
    "id": "e078b4fe5586a717",
    "outputId": "061d7c0c-5fcb-451a-8f40-27177c54716b"
   },
   "outputs": [
    {
     "name": "stdout",
     "output_type": "stream",
     "text": [
      "Pivot table for avg_click_duration_category (percentage):\n",
      " avg_click_duration_category   Very Low        Low     Medium       High\n",
      "cluster                                                                \n",
      "0                            10.443204  27.403594  34.671087  27.482115\n",
      "1                            49.421174  19.925630   9.682172  20.971024\n",
      "2                             3.572936  26.853285  46.082431  23.491349\n",
      "3                            23.159236  27.012739  22.299363  27.528662\n"
     ]
    }
   ],
   "source": [
    "# ChatGPT's suggestion on the values of bins:\n",
    "bins = [0, 618.9375, 7333.579, 30073.45, float('inf')]\n",
    "labels = ['Very Low', 'Low', 'Medium', 'High']\n",
    "new_df['avg_click_duration_category'] = pd.cut(new_df['avg_click_duration'], bins=bins, labels=labels, right=False) # Create 'avg_click_duration_category' based on the bins\n",
    "pivot_avg_click_duration_category = pd.pivot_table(new_df, values='user_id', index='cluster', columns='avg_click_duration_category', aggfunc='count', fill_value=0)\n",
    "pivot_avg_click_duration_category_percentage = pivot_avg_click_duration_category.div(pivot_avg_click_duration_category.sum(axis=1), axis=0) * 100\n",
    "print(\"Pivot table for avg_click_duration_category (percentage):\\n\", pivot_avg_click_duration_category_percentage)"
   ]
  },
  {
   "cell_type": "code",
   "execution_count": null,
   "id": "f2e9e572ad2c518c",
   "metadata": {
    "ExecuteTime": {
     "end_time": "2023-12-17T13:21:37.487514300Z",
     "start_time": "2023-12-17T13:21:11.888900500Z"
    },
    "id": "f2e9e572ad2c518c",
    "outputId": "625095b6-608b-4a7c-9408-0fe3866ef40c"
   },
   "outputs": [
    {
     "name": "stdout",
     "output_type": "stream",
     "text": [
      "Silhouette Score: 0.5076180551190271\n"
     ]
    }
   ],
   "source": [
    "silhouette_avg = silhouette_score(data, clusters)\n",
    "print(\"Silhouette Score:\", silhouette_avg)"
   ]
  },
  {
   "cell_type": "markdown",
   "id": "a0b4d442568dde29",
   "metadata": {
    "collapsed": false,
    "id": "a0b4d442568dde29",
    "jupyter": {
     "outputs_hidden": false
    }
   },
   "source": [
    "The Silhouette Score you provided, 0.5076, suggests that, on average, the clusters are reasonably well-defined and distinct."
   ]
  },
  {
   "cell_type": "markdown",
   "id": "UbwlxjB00zVw",
   "metadata": {
    "id": "UbwlxjB00zVw"
   },
   "source": [
    "# 5.Algorithmic Question (AQ)"
   ]
  },
  {
   "cell_type": "markdown",
   "id": "wOse9pKf1rww",
   "metadata": {
    "id": "wOse9pKf1rww"
   },
   "source": [
    "## a) Fortunately, you have a computer app designed by a brilliant student. Federico wants you to show him the code which this app is based on because he wants to do paid counseling for other desperate students: in a recursive fashion, the helped helps the helpable."
   ]
  },
  {
   "cell_type": "code",
   "execution_count": 20,
   "id": "gUHcWoFg1xMu",
   "metadata": {
    "colab": {
     "base_uri": "https://localhost:8080/"
    },
    "id": "gUHcWoFg1xMu",
    "outputId": "8a380ba5-d953-45a2-aadb-eb78c98de560"
   },
   "outputs": [
    {
     "name": "stdout",
     "output_type": "stream",
     "text": [
      "Test1:\n",
      "11\n",
      "Test2:\n",
      "44\n",
      "Test3:\n",
      "205\n"
     ]
    }
   ],
   "source": [
    "def iterative_call(student_score, marks_list, solved_subproblems={}):\n",
    "    # base case, if the marks list has only one element, we are forced to take it\n",
    "    if len(marks_list) == 1:\n",
    "        return marks_list[0]\n",
    "\n",
    "    # if we have already solved this scenario, we can take the result without\n",
    "    # computing it again another time\n",
    "    elif (student_score, marks_list) in solved_subproblems:\n",
    "        return solved_subproblems[(student_score, marks_list)]\n",
    "\n",
    "    # otherwise is a new scenario, we have to compute it by checking every possible path\n",
    "    else:\n",
    "        # we create a list of tuples, each tuple is the mark list if we chose to take a certain mark\n",
    "        new_marks_lists = [\n",
    "            tuple(mark + (student_score - marks_list[i]) for mark in marks_list[:i] + marks_list[i + 1 :])\n",
    "            for i in range(len(marks_list))\n",
    "        ]\n",
    "\n",
    "        # we create a list of scores, that are the output of each new subproblem\n",
    "        new_scores = [\n",
    "            iterative_call(marks_list[i], new_marks_lists[i], solved_subproblems) for i in range(len(marks_list))\n",
    "        ]\n",
    "\n",
    "        # we get the mark among all subproblems\n",
    "        best_score = max(new_scores)\n",
    "\n",
    "        # update solved subproblems dictionary\n",
    "        solved_subproblems[(student_score, marks_list)] = best_score\n",
    "\n",
    "        return best_score\n",
    "\n",
    "\n",
    "def algorithmic_question_v1(input_string):\n",
    "    input_list = input_string.split(\"\\n\")\n",
    "\n",
    "    # get student score from input string\n",
    "    original_student_score = int(input_list[0])\n",
    "\n",
    "    # get marks list from input string\n",
    "    original_marks_list = tuple(map(int, input_list[1].split(\" \")))\n",
    "\n",
    "    best_score = iterative_call(original_student_score, original_marks_list)\n",
    "\n",
    "    print(best_score)\n",
    "\n",
    "\n",
    "# tests as given by the text of the homework\n",
    "\n",
    "input1 = \"8\\n5 7 1\"\n",
    "print(\"Test1:\")\n",
    "algorithmic_question_v1(input1)\n",
    "\n",
    "input2 = \"26\\n18 24 21 32 27\"\n",
    "print(\"Test2:\")\n",
    "algorithmic_question_v1(input2)\n",
    "\n",
    "input3 = \"30\\n13 27 41 59 28 33 39 19 52 48 55 79\"\n",
    "print(\"Test3:\")\n",
    "algorithmic_question_v1(input3)"
   ]
  },
  {
   "cell_type": "markdown",
   "id": "X3xI_-TP14JJ",
   "metadata": {
    "id": "X3xI_-TP14JJ"
   },
   "source": [
    "##  b) Federico is getting angry because he claims that your code is slow! Show him formally with a big-O notation that he is as crazy as this university!"
   ]
  },
  {
   "cell_type": "markdown",
   "id": "_2Hr1sVk19Vl",
   "metadata": {
    "id": "_2Hr1sVk19Vl"
   },
   "source": [
    "The time complexity of the provided code is exponential, specifically O(2^n), where n is the length of the marks_list. This analysis is based on the recursive nature of the iterative_call function.\n",
    "\n",
    "Let's break down the reasons for this time complexity:\n",
    "\n",
    "\n",
    "Recursive Calls:</br>The function iterative_call is called recursively for each possible path in the decision tree. In the worst case, for each mark in the marks_list, a new recursive call is made. Since there are 2^n possible subsets of marks (including the empty subset and the full subset), the total number of recursive calls becomes exponential.\n",
    "\n",
    "Memoization: </br>Although memoization is used to store and retrieve already computed results in the solved_subproblems dictionary, it doesn't change the fundamental nature of the algorithm. Memoization helps avoid redundant calculations, but the worst-case time complexity remains exponential.\n",
    "\n",
    "Subproblem Size:</br>For each recursive call, the size of the subproblem decreases by 1 (due to the removal of one mark from the marks_list). However, the number of subproblems is still exponential, resulting in an overall time complexity of O(2^n).\n",
    "\n",
    "The exponential time complexity suggests that the algorithm may become inefficient for larger inputs, as the number of computations grows rapidly with the size of the marks_list. Considerations for optimizing the algorithm further, perhaps through dynamic programming or a more efficient algorithmic approach, would be advisable for handling larger inputs efficiently."
   ]
  },
  {
   "cell_type": "markdown",
   "id": "1QByWWq62AAy",
   "metadata": {
    "id": "1QByWWq62AAy"
   },
   "source": [
    "## c) If, unfortunately, Federico is right in the grip of madness, he will threaten you to optimize the code through a different approach. You should end this theater of the absurd by any means! (And again, formally prove that you improved time complexity)"
   ]
  },
  {
   "cell_type": "markdown",
   "id": "KPMGugS72GOq",
   "metadata": {
    "id": "KPMGugS72GOq"
   },
   "source": [
    "This version maintains the functionality of the original code while improving readability and efficiency, SO for improvement, The median index is calculated only once to avoid redundant calculations. The time complexity of the provided code is dominated by the sorting operation, which has a time complexity of O(n log n), where n is the number of elements in the `marks_list`. The rest of the operations (calculating the median index, summing values above and below the median) have linear time complexity, making the overall time complexity O(n log n).\n",
    "\n",
    "Here's a breakdown of the time complexity:\n",
    "1. Sorting the `marks_list`: O(n log n)\n",
    "2. Calculating the median index: O(1)\n",
    "3. Summing values above and below the median: O(n)"
   ]
  },
  {
   "cell_type": "code",
   "execution_count": 21,
   "id": "s4seRS6O2anh",
   "metadata": {
    "colab": {
     "base_uri": "https://localhost:8080/"
    },
    "id": "s4seRS6O2anh",
    "outputId": "ba8b6691-0b76-45ed-89d4-17b3cb760738"
   },
   "outputs": [
    {
     "name": "stdout",
     "output_type": "stream",
     "text": [
      "Test1:\n",
      "11\n",
      "Test2:\n",
      "44\n",
      "Test3:\n",
      "205\n"
     ]
    }
   ],
   "source": [
    "def algorithmic_question_v2(input_string):\n",
    "    input_list = input_string.split(\"\\n\")\n",
    "\n",
    "    # get student score from input string\n",
    "    student_score = int(input_list[0])\n",
    "\n",
    "    # get marks list from input string\n",
    "    marks_list = list(map(int, input_list[1].split(\" \")))\n",
    "\n",
    "    # sort values\n",
    "    marks_list.sort()\n",
    "\n",
    "    # calculate median index\n",
    "    median_index = len(marks_list) // 2\n",
    "\n",
    "    # treat even/odd case\n",
    "    result = 0 if len(marks_list) % 2 == 1 else student_score\n",
    "\n",
    "    # sum values above median and subtract values below median\n",
    "    result += sum(marks_list[median_index:]) - sum(marks_list[:median_index])\n",
    "\n",
    "    print(result)\n",
    "\n",
    "# tests as given by the text of the homework\n",
    "\n",
    "input1 = \"8\\n5 7 1\"\n",
    "print(\"Test1:\")\n",
    "algorithmic_question_v2(input1)\n",
    "\n",
    "input2 = \"25\\n18 24 21 32 27\"\n",
    "print(\"Test2:\")\n",
    "algorithmic_question_v2(input2)\n",
    "\n",
    "input3 = \"30\\n13 27 41 59 28 33 39 19 52 48 55 79\"\n",
    "print(\"Test3:\")\n",
    "algorithmic_question_v2(input3)"
   ]
  },
  {
   "cell_type": "markdown",
   "id": "mWUrbR3A2hBr",
   "metadata": {
    "id": "mWUrbR3A2hBr"
   },
   "source": [
    "## d) Ask chatGPT for a third (optimized) implementation and analyze again its time complexity. Be careful (and crafty) in defining the prompt, and challenge the machine in this coding question!"
   ]
  },
  {
   "cell_type": "markdown",
   "id": "L1nDSwGx2ict",
   "metadata": {
    "id": "L1nDSwGx2ict"
   },
   "source": [
    "We give this command to the chat gpt : \" *Develop a Python algorithm to address the problem presented in the following text. Emphasize code correctness and strive to devise a strategy that minimizes computational costs.*\" then we give the requested algorithm text. the outpus is :"
   ]
  },
  {
   "cell_type": "code",
   "execution_count": null,
   "id": "KFmw8iEF2lRS",
   "metadata": {
    "id": "KFmw8iEF2lRS"
   },
   "outputs": [],
   "source": [
    "def highest_score_possible(current_score, exams):\n",
    "    if not exams:\n",
    "        return current_score\n",
    "\n",
    "    max_score = current_score\n",
    "\n",
    "    for i in range(len(exams)):\n",
    "        new_score = exams[i]\n",
    "        remaining_exams = exams[:i] + exams[i+1:]\n",
    "\n",
    "        for j in range(len(remaining_exams)):\n",
    "            if new_score > current_score:\n",
    "                remaining_exams[j] -= new_score - current_score\n",
    "            elif new_score < current_score:\n",
    "                remaining_exams[j] += current_score - new_score\n",
    "\n",
    "        max_score = max(max_score, highest_score_possible(new_score, remaining_exams))\n",
    "\n",
    "    return max_score"
   ]
  },
  {
   "cell_type": "markdown",
   "id": "A7KiG0kX2q_-",
   "metadata": {
    "id": "A7KiG0kX2q_-"
   },
   "source": [
    "Then we asked it to compute it's time complexity which resuletd in this output :\n",
    "\n",
    "*This results in a total time complexity of O(n!), which can become computationally expensive as the number of exams increases. The code explores all permutations of exams, making it inefficient for larger input sizes. Considerations for optimization, such as dynamic programming or memoization, could be explored to improve the efficiency for larger scenarios.*"
   ]
  }
 ],
 "metadata": {
  "colab": {
   "collapsed_sections": [
    "5qCFOh-bqMPr",
    "HJW4I7KrqV2r",
    "t-5Bk7PyqhCv",
    "mLz8wHTHqwBS",
    "OXlPAnyitvZV",
    "ed6ea09cfacae439",
    "OrP9N07Kyqy3",
    "672d63701dcacaaa",
    "e7a94f267f0d2308",
    "JN_7eq9B0E9O",
    "8e515a895041b8df",
    "5917ad216563e1f7",
    "6b0ddce4df56b2ae",
    "UbwlxjB00zVw"
   ],
   "provenance": [],
   "toc_visible": true
  },
  "kernelspec": {
   "display_name": "Python 3 (ipykernel)",
   "language": "python",
   "name": "python3"
  },
  "language_info": {
   "codemirror_mode": {
    "name": "ipython",
    "version": 3
   },
   "file_extension": ".py",
   "mimetype": "text/x-python",
   "name": "python",
   "nbconvert_exporter": "python",
   "pygments_lexer": "ipython3",
   "version": "3.11.4"
  }
 },
 "nbformat": 4,
 "nbformat_minor": 5
}
